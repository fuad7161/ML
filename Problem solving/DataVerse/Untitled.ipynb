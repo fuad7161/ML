{
 "cells": [
  {
   "cell_type": "code",
   "execution_count": 15,
   "id": "d5cdf01a",
   "metadata": {},
   "outputs": [],
   "source": [
    "soroborno = ['অ','আ','ই','ঈ','উ','ঊ','ঋ','ঌ','এ','ঐ','ও','ঔ']\n",
    "banjonborno = ['ক','খ','গ','ঘ','ঙ','চ','ছ','জ','ঝ','ঞ','ট','ঠ','ড','ঢ','ণ','ত','থ','দ','ধ','ন','প','ফ','ব','ভ','ম','য','র','ল','শ','ষ','স','হ','ড়','ঢ়','য়']\n",
    "Sorborno_kar = ['া','ি','ী','ু','ূ','ৃ','ৄ','ৢ','ৣ','ে','ৈ','ো','ৌ']\n",
    "Soeborno_IPA = {'অ':'ɔ','আ':'ɐ','অ্যা':'æ','এ':'æ','ই':'i','ঈ':'i', 'উ':'u', 'ঊ':'u','এ':'e', 'ও':'o', 'অ':'o'}\n",
    "Special_word_IPA = {'ঁ':'◌̃' , 'ঃ':'h', 'ঃ':'ɦ','ং':'ŋ'}\n",
    "banjonborno_IPA = {'ব': 'b', 'ভ': 'β', 'দ': 'd', 'ধ': 'dʱ', 'ড': 'ɖ', 'ঢ': 'ɖʱ', 'জ': 'z','য':'z','ঝ': 'dʒʱ', 'গ': 'ɡ', 'ঘ': 'ɡʱ', 'হ': 'ɦ', 'ক': 'k', 'খ': 'kʰ','ক্ষ':'kʰ', 'ল': 'l','ম': 'm', 'ন': 'n','ণ':'n', 'ঙ': 'ŋ', 'প': 'p', 'ফ': 'ɸ', 'র': 'r', 'ড়': 'ɽ','স': 's', 'শ': 'ʃ', 'ষ': 'ʃ', 'স': 'ʃ', 'ত': 't','ৎ':'t', 'থ': 'tʰ', 'ট':  'ʈ', 'ঠ': 'ʈʰ', 'চ': 'tʃ', 'ছ': 'tʃʰ', 'য়': 'j', 'ও': 'w','উ':'w', 'ণ': 'ɳ','য':'z','জ':'z'}"
   ]
  },
  {
   "cell_type": "code",
   "execution_count": 16,
   "id": "8e18757c",
   "metadata": {},
   "outputs": [
    {
     "name": "stdout",
     "output_type": "stream",
     "text": [
      "ক k\n",
      "খ kʰ\n",
      "গ ɡ\n",
      "ঘ ɡʱ\n",
      "ঙ ŋ\n",
      "চ tʃ\n",
      "ছ tʃʰ\n",
      "জ z\n",
      "ঝ dʒʱ\n"
     ]
    },
    {
     "ename": "KeyError",
     "evalue": "'ঞ'",
     "output_type": "error",
     "traceback": [
      "\u001b[1;31m---------------------------------------------------------------------------\u001b[0m",
      "\u001b[1;31mKeyError\u001b[0m                                  Traceback (most recent call last)",
      "Cell \u001b[1;32mIn[16], line 2\u001b[0m\n\u001b[0;32m      1\u001b[0m \u001b[38;5;28;01mfor\u001b[39;00m i \u001b[38;5;129;01min\u001b[39;00m banjonborno:\n\u001b[1;32m----> 2\u001b[0m     \u001b[38;5;28mprint\u001b[39m(i , \u001b[43mbanjonborno_IPA\u001b[49m\u001b[43m[\u001b[49m\u001b[43mi\u001b[49m\u001b[43m]\u001b[49m)\n",
      "\u001b[1;31mKeyError\u001b[0m: 'ঞ'"
     ]
    }
   ],
   "source": [
    "for i in banjonborno:\n",
    "    print(i , banjonborno_IPA[i])"
   ]
  },
  {
   "cell_type": "code",
   "execution_count": 12,
   "id": "03320eaa",
   "metadata": {},
   "outputs": [],
   "source": [
    "btoph = {'ব':'b','ভ':'bʱ'}"
   ]
  },
  {
   "cell_type": "code",
   "execution_count": 14,
   "id": "d2819cab",
   "metadata": {},
   "outputs": [
    {
     "name": "stdout",
     "output_type": "stream",
     "text": [
      "bbʱ\n"
     ]
    }
   ],
   "source": [
    "name = 'বভ'\n",
    "ans = \"\"\n",
    "for i in name:\n",
    "    ans = ans+(btoph[i])\n",
    "print(ans)"
   ]
  },
  {
   "cell_type": "code",
   "execution_count": null,
   "id": "71f8a1b3",
   "metadata": {},
   "outputs": [],
   "source": []
  }
 ],
 "metadata": {
  "kernelspec": {
   "display_name": "Python 3 (ipykernel)",
   "language": "python",
   "name": "python3"
  },
  "language_info": {
   "codemirror_mode": {
    "name": "ipython",
    "version": 3
   },
   "file_extension": ".py",
   "mimetype": "text/x-python",
   "name": "python",
   "nbconvert_exporter": "python",
   "pygments_lexer": "ipython3",
   "version": "3.10.9"
  }
 },
 "nbformat": 4,
 "nbformat_minor": 5
}
