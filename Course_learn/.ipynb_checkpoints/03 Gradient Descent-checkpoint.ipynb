{
 "cells": [
  {
   "cell_type": "markdown",
   "id": "ff732307",
   "metadata": {},
   "source": [
    "# Nodebook imports and packages"
   ]
  },
  {
   "cell_type": "code",
   "execution_count": 1,
   "id": "02eded19",
   "metadata": {},
   "outputs": [],
   "source": [
    "import matplotlib.pyplot as plt\n",
    "import numpy as np\n",
    "\n",
    "%matplotlib inline"
   ]
  },
  {
   "cell_type": "markdown",
   "id": "76c3b315",
   "metadata": {},
   "source": [
    "# Example 1- A simple cost function\n",
    "## $f(x) = x^2 + x + 1$"
   ]
  },
  {
   "cell_type": "code",
   "execution_count": 2,
   "id": "47e104bf",
   "metadata": {},
   "outputs": [],
   "source": [
    "def f(x):\n",
    "    return x**2 + x + 1"
   ]
  },
  {
   "cell_type": "code",
   "execution_count": 9,
   "id": "c434ad6f",
   "metadata": {},
   "outputs": [],
   "source": [
    "#make data\n",
    "x_1 = np.linspace(start=-3, stop=3, num= 500)"
   ]
  },
  {
   "cell_type": "code",
   "execution_count": 10,
   "id": "b4af72f3",
   "metadata": {},
   "outputs": [
    {
     "data": {
      "text/plain": [
       "array([-3.        , -2.33333333, -1.66666667, -1.        , -0.33333333,\n",
       "        0.33333333,  1.        ,  1.66666667,  2.33333333,  3.        ])"
      ]
     },
     "execution_count": 10,
     "metadata": {},
     "output_type": "execute_result"
    }
   ],
   "source": []
  },
  {
   "cell_type": "code",
   "execution_count": null,
   "id": "b1cc19b5",
   "metadata": {},
   "outputs": [],
   "source": []
  }
 ],
 "metadata": {
  "kernelspec": {
   "display_name": "Python 3 (ipykernel)",
   "language": "python",
   "name": "python3"
  },
  "language_info": {
   "codemirror_mode": {
    "name": "ipython",
    "version": 3
   },
   "file_extension": ".py",
   "mimetype": "text/x-python",
   "name": "python",
   "nbconvert_exporter": "python",
   "pygments_lexer": "ipython3",
   "version": "3.10.9"
  }
 },
 "nbformat": 4,
 "nbformat_minor": 5
}
