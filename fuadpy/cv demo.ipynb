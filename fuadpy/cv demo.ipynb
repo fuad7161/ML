{
 "cells": [
  {
   "cell_type": "markdown",
   "id": "45cb7020",
   "metadata": {},
   "source": [
    "# John Doe\n",
    "![Profile Picture](profile.jpeg)\n",
    "\n",
    "## Contact Information\n",
    "- Email: johndoe@email.com\n",
    "- Phone: (123) 456-7890\n",
    "\n",
    "## Education\n",
    "- Ph.D. in Computer Science, University XYZ, 2020\n",
    "- M.S. in Computer Science, University ABC, 2016\n",
    "- B.S. in Computer Science, University DEF, 2014\n"
   ]
  },
  {
   "cell_type": "code",
   "execution_count": null,
   "id": "7a69ec22",
   "metadata": {},
   "outputs": [],
   "source": []
  }
 ],
 "metadata": {
  "kernelspec": {
   "display_name": "Python 3 (ipykernel)",
   "language": "python",
   "name": "python3"
  },
  "language_info": {
   "codemirror_mode": {
    "name": "ipython",
    "version": 3
   },
   "file_extension": ".py",
   "mimetype": "text/x-python",
   "name": "python",
   "nbconvert_exporter": "python",
   "pygments_lexer": "ipython3",
   "version": "3.10.9"
  }
 },
 "nbformat": 4,
 "nbformat_minor": 5
}
