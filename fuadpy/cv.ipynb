{
 "cells": [
  {
   "cell_type": "markdown",
   "id": "f5c77dd9",
   "metadata": {},
   "source": [
    "# Fuadul Hasan\n",
    "   ### Contact: +8801754726519\n",
    "   ### Email: fuadul202@gmail.com"
   ]
  },
  {
   "cell_type": "markdown",
   "id": "c3f5317c",
   "metadata": {},
   "source": [
    "## Online Profile\n",
    "- [github](https://github.com/fuad7161)\n",
    "- [stopstalk](https://www.stopstalk.com/user/profile/Fuad71)\n",
    "- [profile](https://clist.by/coder/fuad71/)"
   ]
  },
  {
   "cell_type": "markdown",
   "id": "2101e73a",
   "metadata": {},
   "source": [
    "## Summary\n",
    " A skilled, knowledgeable and qualified computer programming student with extensive background in computer programming. Seeking a challenging position as a computer programming to utilize my knowledge in a well reputed organization.\n"
   ]
  },
  {
   "cell_type": "markdown",
   "id": "5f12eb20",
   "metadata": {},
   "source": [
    "## Education\n",
    "- B.Sc in Computer Science and Engineering (2019-2023)\n",
    "- CGPA = 3.20 out of 4\n",
    "- Bangabandhu Sheikh Mujibur Rahman Science and Technology University"
   ]
  },
  {
   "cell_type": "markdown",
   "id": "8e4db1ac",
   "metadata": {},
   "source": [
    "## Highlights\n",
    "- **Problem solver(Expert in Codeforces)**\n",
    "- **Proficient in C++ & Python**\n",
    "- **Machine Learning(basic)**\n",
    "- **writing in personal blog**"
   ]
  },
  {
   "cell_type": "markdown",
   "id": "796a7af9",
   "metadata": {},
   "source": [
    "<style>\n",
    "    h1 {\n",
    "        color: #333;\n",
    "    }\n",
    "    ul {\n",
    "        list-style-type: circle;\n",
    "    }\n",
    "</style>\n"
   ]
  },
  {
   "cell_type": "markdown",
   "id": "5be60d06",
   "metadata": {},
   "source": [
    "## Problem solving\n",
    "- **[Expert in Codeforces](https://codeforces.com/profile/fuadul)**\n",
    "- **[4 Star in Codechef](https://www.codechef.com/users/fuad71)**\n",
    "- **[Leetcode (Max: 1689)](https://leetcode.com/fuadul012/)**\n",
    "- **[Hackerearth (Max: 1810)](https://www.hackerearth.com/@hfuad101#user-rating-graph)**"
   ]
  },
  {
   "cell_type": "markdown",
   "id": "a5899417",
   "metadata": {},
   "source": [
    "## Achievement in Contest\n",
    "- [1. Ranked 2nd at Bijoy Programming Contest](https://www.hackerrank.com/contests/bijoy-programming-contest/leaderboard)\n",
    "- [2. Ranked 3rd at SZIUPC (UGV)](https://www.hackerrank.com/contests/bijoy-programming-contest/leaderboard)\n",
    "- [3. Ranked 6th in February Prime Time 2021](https://mycode.prepbytes.com/contest/PRIMETIMEFEB21/leaderboard)\n",
    "- [4. Ranked 12th at KU CSE Fest 2022](https://toph.co/contests/training/tkl9pz3/standings)\n",
    "- [5. Ranked 42th at SUST IUPC 2023](https://toph.co/c/sust-inter-university-2023/standings/combined)"
   ]
  },
  {
   "cell_type": "markdown",
   "id": "f9502dbf",
   "metadata": {},
   "source": [
    "## Certifications\n",
    "- [Problem Solving (Basic) Certificate](https://www.hackerrank.com/certificates/f512b96711b8)\n",
    "- [Meta Hackercup 2022 Contest](https://www.facebook.com/codingcompetitions/hacker-cup/2022/certificate/755736301902921)\n",
    "- [Google kickstart coding Contest 2020](https://drive.google.com/file/d/1IZv3BwbgwZQ7pGijKrLw5RQ0AHNfzdZP/view)\n",
    "- [Kotlin Hero Contest Round 5](https://drive.google.com/file/d/1VLXQ_pT2pZ-kXUmfvglrvvYRxI3d1B3l/view)\n",
    "- [Introduction to python](https://www.kaggle.com/learn/certification/fuadulhasan/intro-to-programming)"
   ]
  },
  {
   "cell_type": "markdown",
   "id": "131455f4",
   "metadata": {},
   "source": [
    "## Courses\n",
    "- Python Bootcamp From Zero to Hero - Udemy\n",
    "- Machine Learning A-Z - Udemy"
   ]
  },
  {
   "cell_type": "markdown",
   "id": "213bd964",
   "metadata": {},
   "source": [
    "## Projects\n",
    "- Online Examination System (PHP,Laravel,MySql)\n",
    "- Course Management System(HTML,CSS,Javascript)\n",
    "- Bouncing Ball(C++, Graphics)\n",
    "- Tic Tac Toi game(Java , GUI)\n",
    "- Snake Game(Java , GUI)"
   ]
  },
  {
   "cell_type": "code",
   "execution_count": null,
   "id": "77ddc33e",
   "metadata": {},
   "outputs": [],
   "source": []
  }
 ],
 "metadata": {
  "kernelspec": {
   "display_name": "Python 3 (ipykernel)",
   "language": "python",
   "name": "python3"
  },
  "language_info": {
   "codemirror_mode": {
    "name": "ipython",
    "version": 3
   },
   "file_extension": ".py",
   "mimetype": "text/x-python",
   "name": "python",
   "nbconvert_exporter": "python",
   "pygments_lexer": "ipython3",
   "version": "3.10.9"
  }
 },
 "nbformat": 4,
 "nbformat_minor": 5
}
