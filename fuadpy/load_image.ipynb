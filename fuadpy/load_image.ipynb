{
 "cells": [
  {
   "cell_type": "code",
   "execution_count": 15,
   "id": "517cabe4",
   "metadata": {},
   "outputs": [
    {
     "name": "stdout",
     "output_type": "stream",
     "text": [
      "Defaulting to user installation because normal site-packages is not writeable\n",
      "Collecting svgelements\n",
      "  Obtaining dependency information for svgelements from https://files.pythonhosted.org/packages/20/f3/a0ebf07abf842d309207cba39af08ac572f158c1a1fa0024d92125a7e55f/svgelements-1.9.5-py2.py3-none-any.whl.metadata\n",
      "  Downloading svgelements-1.9.5-py2.py3-none-any.whl.metadata (44 kB)\n",
      "     ---------------------------------------- 0.0/44.8 kB ? eta -:--:--\n",
      "     ----------------- -------------------- 20.5/44.8 kB 640.0 kB/s eta 0:00:01\n",
      "     -------------------------- ----------- 30.7/44.8 kB 435.7 kB/s eta 0:00:01\n",
      "     -------------------------- ----------- 30.7/44.8 kB 435.7 kB/s eta 0:00:01\n",
      "     ---------------------------------- --- 41.0/44.8 kB 163.4 kB/s eta 0:00:01\n",
      "     -------------------------------------- 44.8/44.8 kB 170.0 kB/s eta 0:00:00\n",
      "Downloading svgelements-1.9.5-py2.py3-none-any.whl (137 kB)\n",
      "   ---------------------------------------- 0.0/137.3 kB ? eta -:--:--\n",
      "   -------- ------------------------------ 30.7/137.3 kB 660.6 kB/s eta 0:00:01\n",
      "   -------------------- ------------------ 71.7/137.3 kB 787.7 kB/s eta 0:00:01\n",
      "   -------------------- ------------------ 71.7/137.3 kB 787.7 kB/s eta 0:00:01\n",
      "   -------------------- ------------------ 71.7/137.3 kB 787.7 kB/s eta 0:00:01\n",
      "   ---------------------------------- --- 122.9/137.3 kB 514.3 kB/s eta 0:00:01\n",
      "   -------------------------------------- 137.3/137.3 kB 508.2 kB/s eta 0:00:00\n",
      "Installing collected packages: svgelements\n",
      "Successfully installed svgelements-1.9.5\n",
      "Note: you may need to restart the kernel to use updated packages.\n"
     ]
    }
   ],
   "source": [
    "pip install svgelements"
   ]
  },
  {
   "cell_type": "code",
   "execution_count": 16,
   "id": "ac8f3d69",
   "metadata": {},
   "outputs": [],
   "source": [
    "from svgelements import *"
   ]
  },
  {
   "cell_type": "code",
   "execution_count": 17,
   "id": "70d29f3a",
   "metadata": {},
   "outputs": [],
   "source": [
    "def parse(source,\n",
    "              reify=True,\n",
    "              ppi=DEFAULT_PPI,\n",
    "              width=1,\n",
    "              height=1,\n",
    "              color=\"black\",\n",
    "              transform=None,\n",
    "              context=None):\n",
    "    for element in svg.elements():\n",
    "        try:\n",
    "            if element.values['visibility'] == 'hidden':\n",
    "                continue\n",
    "        except (KeyError, AttributeError):\n",
    "            pass\n",
    "        if isinstance(element, SVGText):\n",
    "            elements.append(element)\n",
    "        elif isinstance(element, Path):\n",
    "            if len(element) != 0:\n",
    "                elements.append(element)\n",
    "        elif isinstance(element, Shape):\n",
    "            e = Path(element)\n",
    "            e.reify()  # In some cases the shape could not have reified, the path must.\n",
    "            if len(e) != 0:\n",
    "                elements.append(e)\n",
    "        elif isinstance(element, SVGImage):\n",
    "            try:\n",
    "                element.load(os.path.dirname(pathname))\n",
    "                if element.image is not None:\n",
    "                    elements.append(element)\n",
    "            except OSError:\n",
    "                pass  "
   ]
  },
  {
   "cell_type": "code",
   "execution_count": 18,
   "id": "b56251a9",
   "metadata": {},
   "outputs": [
    {
     "data": {
      "text/plain": [
       "'<g id=\"group\" />'"
      ]
     },
     "execution_count": 18,
     "metadata": {},
     "output_type": "execute_result"
    }
   ],
   "source": [
    "Group(id=\"group\").string_xml()"
   ]
  },
  {
   "cell_type": "code",
   "execution_count": 30,
   "id": "9cc9cfbf",
   "metadata": {},
   "outputs": [],
   "source": [
    "SVG().write_xml(\"3221.svg\")"
   ]
  },
  {
   "cell_type": "code",
   "execution_count": 21,
   "id": "43b9367c",
   "metadata": {},
   "outputs": [],
   "source": [
    "s = SVG()\n",
    "s.append(Rect(0,0,\"2in\", \"2in\"))\n",
    "s.write_xml(\"rect.svg\")"
   ]
  },
  {
   "cell_type": "code",
   "execution_count": 24,
   "id": "f49509a0",
   "metadata": {},
   "outputs": [
    {
     "data": {
      "text/plain": [
       "Point(-10,10)"
      ]
     },
     "execution_count": 24,
     "metadata": {},
     "output_type": "execute_result"
    }
   ],
   "source": [
    "Point(10,10) "
   ]
  },
  {
   "cell_type": "code",
   "execution_count": 28,
   "id": "92fd16dd",
   "metadata": {},
   "outputs": [],
   "source": [
    "svg = SVG.parse('3221.svg')"
   ]
  },
  {
   "cell_type": "code",
   "execution_count": 29,
   "id": "91baeb77",
   "metadata": {},
   "outputs": [
    {
     "data": {
      "text/plain": [
       "[[[[Path(Move(end=Point(386.904,270.8926)), CubicBezier(start=Point(386.904,270.8926), control1=Point(386.904,270.8926), control2=Point(402.0341189,248.92866707), end=Point(420.5847,233.4696)), CubicBezier(start=Point(420.5847,233.4696), control1=Point(445.55669367,212.65979239), control2=Point(448.29755419,210.25761002), end=Point(476.7192,196.0466)), CubicBezier(start=Point(476.7192,196.0466), control1=Point(494.48277541,187.16499941), control2=Point(497.67645423,186.91014878), end=Point(517.8845,184.8197)), CubicBezier(start=Point(517.8845,184.8197), control1=Point(550.04470351,181.4927953), control2=Point(552.75562563,182.32059206), end=Point(585.2459,184.8197)), CubicBezier(start=Point(585.2459,184.8197), control1=Point(599.96361744,185.95211998), control2=Point(603.54350162,185.32004551), end=Point(615.1843,192.3043)), CubicBezier(start=Point(615.1843,192.3043), control1=Point(646.56385973,211.13218553), control2=Point(651.81992008,215.19707179), end=Point(678.8034,240.9542)), CubicBezier(start=Point(678.8034,240.9542), control1=Point(690.39779386,252.02167802), control2=Point(691.73267227,255.47357554), end=Point(697.5149,270.8926)), CubicBezier(start=Point(697.5149,270.8926), control1=Point(707.76169163,298.21737768), control2=Point(709.53591606,301.28681214), end=Point(712.4841,330.7694)), CubicBezier(start=Point(712.4841,330.7694), control1=Point(716.79859767,373.91475093), control2=Point(717.37304072,377.56349343), end=Point(712.4841,420.5846)), CubicBezier(start=Point(712.4841,420.5846), control1=Point(708.29422092,457.45411383), control2=Point(709.64631391,463.68354641), end=Point(693.7726,495.4306)), CubicBezier(start=Point(693.7726,495.4306), control1=Point(665.55303839,551.87009745), control2=Point(658.82662837,554.49981166), end=Point(618.9266,607.6996)), CubicBezier(start=Point(618.9266,607.6996), control1=Point(597.86830367,635.77732844), control2=Point(593.51713146,651.19148791), end=Point(570.2767,660.0918)), CubicBezier(start=Point(570.2767,660.0918), control1=Point(525.30398398,677.31536152), control2=Point(484.76065424,681.41018618), end=Point(443.0385,675.061)), CubicBezier(start=Point(443.0385,675.061), control1=Point(425.95302935,672.46122419), control2=Point(398.1309,633.8957), end=Point(398.1309,633.8957)), stroke='#000000', stroke_width=3.0000147950000002, id='0'),\n",
       "    Path(Move(end=Point(383.1617,274.6349)), CubicBezier(start=Point(383.1617,274.6349), control1=Point(383.1617,274.6349), control2=Point(385.34271244,264.02809911), end=Point(383.1617,259.6657)), CubicBezier(start=Point(383.1617,259.6657), control1=Point(379.88980711,253.12228845), control2=Point(376.50115446,250.63141357), end=Point(368.1925,244.6965)), CubicBezier(start=Point(368.1925,244.6965), control1=Point(338.07409537,223.18351422), control2=Point(334.04438673,211.63589911), end=Point(304.5734,203.5312)), CubicBezier(start=Point(304.5734,203.5312), control1=Point(270.7242965,194.22260298), control2=Point(255.39097071,197.76730954), end=Point(218.5005,203.5312)), CubicBezier(start=Point(218.5005,203.5312), control1=Point(202.81202994,205.98278073), control2=Point(199.76430082,211.0345115), end=Point(184.8198,222.2427)), CubicBezier(start=Point(184.8198,222.2427), control1=Point(155.81023886,244.00005797), control2=Point(153.48252826,244.96856521), end=Point(128.6853,270.8926)), CubicBezier(start=Point(128.6853,270.8926), control1=Point(113.54694804,286.71916093), control2=Point(109.46260182,289.29685717), end=Point(102.4892,308.3156)), CubicBezier(start=Point(102.4892,308.3156), control1=Point(90.57671064,340.80400322), control2=Point(90.60777173,346.10759078), end=Point(87.52,383.1616)), CubicBezier(start=Point(87.52,383.1616), control1=Point(83.26799874,434.18711204), control2=Point(80.2487111,440.16244245), end=Point(87.52,487.946)), CubicBezier(start=Point(87.52,487.946), control1=Point(92.4710629,520.48230466), control2=Point(97.39518124,524.58611084), end=Point(113.7161,555.3074)), CubicBezier(start=Point(113.7161,555.3074), control1=Point(128.2287394,582.62544154), control2=Point(130.84011634,583.17181734), end=Point(151.1391,607.6996)), CubicBezier(start=Point(151.1391,607.6996), control1=Point(175.36562751,636.97374175), control2=Point(175.66763112,639.18544105), end=Point(203.5313,663.8341)), CubicBezier(start=Point(203.5313,663.8341), control1=Point(223.02419224,681.07786994), control2=Point(226.52586235,686.92483946), end=Point(248.4389,693.7725)), CubicBezier(start=Point(248.4389,693.7725), control1=Point(279.6085167,703.51295844), control2=Point(301.61249224,709.92613795), end=Point(323.2849,701.2571)), CubicBezier(start=Point(323.2849,701.2571), control1=Point(353.98747766,688.97636832), control2=Point(398.1309,633.8957), end=Point(398.1309,633.8957)), stroke='#000000', stroke_width=3.0000147950000002, id='1'),\n",
       "    Path(Move(end=Point(368.1925,244.6965)), Line(start=Point(368.1925,244.6965), end=Point(379.4194,255.9234)), stroke='#000000', stroke_width=3.0000147950000002, id='2'),\n",
       "    Path(Move(end=Point(334.5118,270.8926)), CubicBezier(start=Point(334.5118,270.8926), control1=Point(334.5118,270.8926), control2=Point(341.4837049,288.59105939), end=Point(345.7387,289.6041)), CubicBezier(start=Point(345.7387,289.6041), control1=Point(364.0160932,293.95602067), control2=Point(393.68355068,296.59434217), end=Point(413.1001,289.6041)), CubicBezier(start=Point(413.1001,289.6041), control1=Point(424.14587268,285.62753202), control2=Point(439.2962,255.9234), end=Point(439.2962,255.9234)), stroke='#000000', stroke_width=3.0000147950000002, id='3'),\n",
       "    Path(Move(end=Point(364.4502,166.1082)), Line(start=Point(364.4502,166.1082), end=Point(368.1925,289.6041)), stroke='#000000', stroke_width=3.0000147950000002, id='4'),\n",
       "    Path(Move(end=Point(398.1309,177.3351)), Line(start=Point(398.1309,177.3351), end=Point(398.1309,289.6041)), stroke='#000000', stroke_width=3.0000147950000002, id='5'),\n",
       "    Path(Move(end=Point(368.1925,267.1503)), CubicBezier(start=Point(368.1925,267.1503), control1=Point(368.1925,267.1503), control2=Point(383.15533809,225.97414733), end=Point(383.1617,225.985)), CubicBezier(start=Point(383.1617,225.985), control1=Point(383.17479805,226.00820226), control2=Point(383.14860195,293.25471365), end=Point(383.1617,293.3464)), CubicBezier(start=Point(383.1617,293.3464), control1=Point(383.16431961,293.36548573), control2=Point(390.15194217,285.29708693), end=Point(390.6463,278.3772)), CubicBezier(start=Point(390.6463,278.3772), control1=Point(393.50953373,238.29005663), control2=Point(390.65453306,188.60615914), end=Point(390.6463,188.562)), CubicBezier(start=Point(390.6463,188.562), control1=Point(390.64368039,188.54852772), control2=Point(379.4194,218.50526499), end=Point(379.4194,218.5004)), CubicBezier(start=Point(379.4194,218.5004), control1=Point(379.4194,218.48206273), control2=Point(390.6463,98.74717423), end=Point(390.6463,98.7468)), CubicBezier(start=Point(390.6463,98.7468), control1=Point(390.6463,98.7468), control2=Point(390.6463,184.8197), end=Point(390.6463,184.8197)), CubicBezier(start=Point(390.6463,184.8197), control1=Point(390.6463,184.8197), control2=Point(390.94456131,116.39885487), end=Point(390.6463,113.716)), CubicBezier(start=Point(390.6463,113.716), control1=Point(390.63395041,113.60635061), control2=Point(383.37388841,116.11406584), end=Point(383.1617,117.4583)), CubicBezier(start=Point(383.1617,117.4583), control1=Point(380.23260179,136.00925533), control2=Point(379.41977423,184.81932577), end=Point(379.4194,184.8197)), CubicBezier(start=Point(379.4194,184.8197), control1=Point(379.4194,184.82007423), control2=Point(375.6771,132.4275), end=Point(375.6771,132.4275)), CubicBezier(start=Point(375.6771,132.4275), control1=Point(375.6771,132.4275), control2=Point(375.67784846,188.56274846), end=Point(375.6771,188.562)), CubicBezier(start=Point(375.6771,188.562), control1=Point(375.67635154,188.56125154), control2=Point(364.4502,121.2006), end=Point(364.4502,121.2006)), CubicBezier(start=Point(364.4502,121.2006), control1=Point(364.4502,121.2006), control2=Point(368.19100308,162.36777115), end=Point(368.1925,162.3659)), CubicBezier(start=Point(368.1925,162.3659), control1=Point(368.19474538,162.36290616), control2=Point(373.35837092,114.92700828), end=Point(375.6771,106.2314)), CubicBezier(start=Point(375.6771,106.2314), control1=Point(375.75681099,105.93313869), control2=Point(383.1617,106.2314), end=Point(383.1617,106.2314)), CubicBezier(start=Point(383.1617,106.2314), control1=Point(383.1617,106.2314), control2=Point(360.76366027,106.06449342), end=Point(360.7079,106.2314)), CubicBezier(start=Point(360.7079,106.2314), control1=Point(360.57804219,106.62097343), control2=Point(374.89308815,119.01659372), end=Point(375.6771,128.6852)), CubicBezier(start=Point(375.6771,128.6852), control1=Point(379.50958943,175.9541913), control2=Point(371.9348,244.6965), end=Point(371.9348,244.6965)), stroke='#000000', stroke_width=3.0000147950000002, id='6'),\n",
       "    Path(Move(end=Point(375.6771,278.3772)), Line(start=Point(375.6771,278.3772), end=Point(379.4194,237.2119)), stroke='#000000', stroke_width=3.0000147950000002, id='7')]]],\n",
       " [[Path(Move(end=Point(386.904,270.8926)), CubicBezier(start=Point(386.904,270.8926), control1=Point(386.904,270.8926), control2=Point(402.0341189,248.92866707), end=Point(420.5847,233.4696)), CubicBezier(start=Point(420.5847,233.4696), control1=Point(445.55669367,212.65979239), control2=Point(448.29755419,210.25761002), end=Point(476.7192,196.0466)), CubicBezier(start=Point(476.7192,196.0466), control1=Point(494.48277541,187.16499941), control2=Point(497.67645423,186.91014878), end=Point(517.8845,184.8197)), CubicBezier(start=Point(517.8845,184.8197), control1=Point(550.04470351,181.4927953), control2=Point(552.75562563,182.32059206), end=Point(585.2459,184.8197)), CubicBezier(start=Point(585.2459,184.8197), control1=Point(599.96361744,185.95211998), control2=Point(603.54350162,185.32004551), end=Point(615.1843,192.3043)), CubicBezier(start=Point(615.1843,192.3043), control1=Point(646.56385973,211.13218553), control2=Point(651.81992008,215.19707179), end=Point(678.8034,240.9542)), CubicBezier(start=Point(678.8034,240.9542), control1=Point(690.39779386,252.02167802), control2=Point(691.73267227,255.47357554), end=Point(697.5149,270.8926)), CubicBezier(start=Point(697.5149,270.8926), control1=Point(707.76169163,298.21737768), control2=Point(709.53591606,301.28681214), end=Point(712.4841,330.7694)), CubicBezier(start=Point(712.4841,330.7694), control1=Point(716.79859767,373.91475093), control2=Point(717.37304072,377.56349343), end=Point(712.4841,420.5846)), CubicBezier(start=Point(712.4841,420.5846), control1=Point(708.29422092,457.45411383), control2=Point(709.64631391,463.68354641), end=Point(693.7726,495.4306)), CubicBezier(start=Point(693.7726,495.4306), control1=Point(665.55303839,551.87009745), control2=Point(658.82662837,554.49981166), end=Point(618.9266,607.6996)), CubicBezier(start=Point(618.9266,607.6996), control1=Point(597.86830367,635.77732844), control2=Point(593.51713146,651.19148791), end=Point(570.2767,660.0918)), CubicBezier(start=Point(570.2767,660.0918), control1=Point(525.30398398,677.31536152), control2=Point(484.76065424,681.41018618), end=Point(443.0385,675.061)), CubicBezier(start=Point(443.0385,675.061), control1=Point(425.95302935,672.46122419), control2=Point(398.1309,633.8957), end=Point(398.1309,633.8957)), stroke='#000000', stroke_width=3.0000147950000002, id='0'),\n",
       "   Path(Move(end=Point(383.1617,274.6349)), CubicBezier(start=Point(383.1617,274.6349), control1=Point(383.1617,274.6349), control2=Point(385.34271244,264.02809911), end=Point(383.1617,259.6657)), CubicBezier(start=Point(383.1617,259.6657), control1=Point(379.88980711,253.12228845), control2=Point(376.50115446,250.63141357), end=Point(368.1925,244.6965)), CubicBezier(start=Point(368.1925,244.6965), control1=Point(338.07409537,223.18351422), control2=Point(334.04438673,211.63589911), end=Point(304.5734,203.5312)), CubicBezier(start=Point(304.5734,203.5312), control1=Point(270.7242965,194.22260298), control2=Point(255.39097071,197.76730954), end=Point(218.5005,203.5312)), CubicBezier(start=Point(218.5005,203.5312), control1=Point(202.81202994,205.98278073), control2=Point(199.76430082,211.0345115), end=Point(184.8198,222.2427)), CubicBezier(start=Point(184.8198,222.2427), control1=Point(155.81023886,244.00005797), control2=Point(153.48252826,244.96856521), end=Point(128.6853,270.8926)), CubicBezier(start=Point(128.6853,270.8926), control1=Point(113.54694804,286.71916093), control2=Point(109.46260182,289.29685717), end=Point(102.4892,308.3156)), CubicBezier(start=Point(102.4892,308.3156), control1=Point(90.57671064,340.80400322), control2=Point(90.60777173,346.10759078), end=Point(87.52,383.1616)), CubicBezier(start=Point(87.52,383.1616), control1=Point(83.26799874,434.18711204), control2=Point(80.2487111,440.16244245), end=Point(87.52,487.946)), CubicBezier(start=Point(87.52,487.946), control1=Point(92.4710629,520.48230466), control2=Point(97.39518124,524.58611084), end=Point(113.7161,555.3074)), CubicBezier(start=Point(113.7161,555.3074), control1=Point(128.2287394,582.62544154), control2=Point(130.84011634,583.17181734), end=Point(151.1391,607.6996)), CubicBezier(start=Point(151.1391,607.6996), control1=Point(175.36562751,636.97374175), control2=Point(175.66763112,639.18544105), end=Point(203.5313,663.8341)), CubicBezier(start=Point(203.5313,663.8341), control1=Point(223.02419224,681.07786994), control2=Point(226.52586235,686.92483946), end=Point(248.4389,693.7725)), CubicBezier(start=Point(248.4389,693.7725), control1=Point(279.6085167,703.51295844), control2=Point(301.61249224,709.92613795), end=Point(323.2849,701.2571)), CubicBezier(start=Point(323.2849,701.2571), control1=Point(353.98747766,688.97636832), control2=Point(398.1309,633.8957), end=Point(398.1309,633.8957)), stroke='#000000', stroke_width=3.0000147950000002, id='1'),\n",
       "   Path(Move(end=Point(368.1925,244.6965)), Line(start=Point(368.1925,244.6965), end=Point(379.4194,255.9234)), stroke='#000000', stroke_width=3.0000147950000002, id='2'),\n",
       "   Path(Move(end=Point(334.5118,270.8926)), CubicBezier(start=Point(334.5118,270.8926), control1=Point(334.5118,270.8926), control2=Point(341.4837049,288.59105939), end=Point(345.7387,289.6041)), CubicBezier(start=Point(345.7387,289.6041), control1=Point(364.0160932,293.95602067), control2=Point(393.68355068,296.59434217), end=Point(413.1001,289.6041)), CubicBezier(start=Point(413.1001,289.6041), control1=Point(424.14587268,285.62753202), control2=Point(439.2962,255.9234), end=Point(439.2962,255.9234)), stroke='#000000', stroke_width=3.0000147950000002, id='3'),\n",
       "   Path(Move(end=Point(364.4502,166.1082)), Line(start=Point(364.4502,166.1082), end=Point(368.1925,289.6041)), stroke='#000000', stroke_width=3.0000147950000002, id='4'),\n",
       "   Path(Move(end=Point(398.1309,177.3351)), Line(start=Point(398.1309,177.3351), end=Point(398.1309,289.6041)), stroke='#000000', stroke_width=3.0000147950000002, id='5'),\n",
       "   Path(Move(end=Point(368.1925,267.1503)), CubicBezier(start=Point(368.1925,267.1503), control1=Point(368.1925,267.1503), control2=Point(383.15533809,225.97414733), end=Point(383.1617,225.985)), CubicBezier(start=Point(383.1617,225.985), control1=Point(383.17479805,226.00820226), control2=Point(383.14860195,293.25471365), end=Point(383.1617,293.3464)), CubicBezier(start=Point(383.1617,293.3464), control1=Point(383.16431961,293.36548573), control2=Point(390.15194217,285.29708693), end=Point(390.6463,278.3772)), CubicBezier(start=Point(390.6463,278.3772), control1=Point(393.50953373,238.29005663), control2=Point(390.65453306,188.60615914), end=Point(390.6463,188.562)), CubicBezier(start=Point(390.6463,188.562), control1=Point(390.64368039,188.54852772), control2=Point(379.4194,218.50526499), end=Point(379.4194,218.5004)), CubicBezier(start=Point(379.4194,218.5004), control1=Point(379.4194,218.48206273), control2=Point(390.6463,98.74717423), end=Point(390.6463,98.7468)), CubicBezier(start=Point(390.6463,98.7468), control1=Point(390.6463,98.7468), control2=Point(390.6463,184.8197), end=Point(390.6463,184.8197)), CubicBezier(start=Point(390.6463,184.8197), control1=Point(390.6463,184.8197), control2=Point(390.94456131,116.39885487), end=Point(390.6463,113.716)), CubicBezier(start=Point(390.6463,113.716), control1=Point(390.63395041,113.60635061), control2=Point(383.37388841,116.11406584), end=Point(383.1617,117.4583)), CubicBezier(start=Point(383.1617,117.4583), control1=Point(380.23260179,136.00925533), control2=Point(379.41977423,184.81932577), end=Point(379.4194,184.8197)), CubicBezier(start=Point(379.4194,184.8197), control1=Point(379.4194,184.82007423), control2=Point(375.6771,132.4275), end=Point(375.6771,132.4275)), CubicBezier(start=Point(375.6771,132.4275), control1=Point(375.6771,132.4275), control2=Point(375.67784846,188.56274846), end=Point(375.6771,188.562)), CubicBezier(start=Point(375.6771,188.562), control1=Point(375.67635154,188.56125154), control2=Point(364.4502,121.2006), end=Point(364.4502,121.2006)), CubicBezier(start=Point(364.4502,121.2006), control1=Point(364.4502,121.2006), control2=Point(368.19100308,162.36777115), end=Point(368.1925,162.3659)), CubicBezier(start=Point(368.1925,162.3659), control1=Point(368.19474538,162.36290616), control2=Point(373.35837092,114.92700828), end=Point(375.6771,106.2314)), CubicBezier(start=Point(375.6771,106.2314), control1=Point(375.75681099,105.93313869), control2=Point(383.1617,106.2314), end=Point(383.1617,106.2314)), CubicBezier(start=Point(383.1617,106.2314), control1=Point(383.1617,106.2314), control2=Point(360.76366027,106.06449342), end=Point(360.7079,106.2314)), CubicBezier(start=Point(360.7079,106.2314), control1=Point(360.57804219,106.62097343), control2=Point(374.89308815,119.01659372), end=Point(375.6771,128.6852)), CubicBezier(start=Point(375.6771,128.6852), control1=Point(379.50958943,175.9541913), control2=Point(371.9348,244.6965), end=Point(371.9348,244.6965)), stroke='#000000', stroke_width=3.0000147950000002, id='6'),\n",
       "   Path(Move(end=Point(375.6771,278.3772)), Line(start=Point(375.6771,278.3772), end=Point(379.4194,237.2119)), stroke='#000000', stroke_width=3.0000147950000002, id='7')]],\n",
       " [Path(Move(end=Point(386.904,270.8926)), CubicBezier(start=Point(386.904,270.8926), control1=Point(386.904,270.8926), control2=Point(402.0341189,248.92866707), end=Point(420.5847,233.4696)), CubicBezier(start=Point(420.5847,233.4696), control1=Point(445.55669367,212.65979239), control2=Point(448.29755419,210.25761002), end=Point(476.7192,196.0466)), CubicBezier(start=Point(476.7192,196.0466), control1=Point(494.48277541,187.16499941), control2=Point(497.67645423,186.91014878), end=Point(517.8845,184.8197)), CubicBezier(start=Point(517.8845,184.8197), control1=Point(550.04470351,181.4927953), control2=Point(552.75562563,182.32059206), end=Point(585.2459,184.8197)), CubicBezier(start=Point(585.2459,184.8197), control1=Point(599.96361744,185.95211998), control2=Point(603.54350162,185.32004551), end=Point(615.1843,192.3043)), CubicBezier(start=Point(615.1843,192.3043), control1=Point(646.56385973,211.13218553), control2=Point(651.81992008,215.19707179), end=Point(678.8034,240.9542)), CubicBezier(start=Point(678.8034,240.9542), control1=Point(690.39779386,252.02167802), control2=Point(691.73267227,255.47357554), end=Point(697.5149,270.8926)), CubicBezier(start=Point(697.5149,270.8926), control1=Point(707.76169163,298.21737768), control2=Point(709.53591606,301.28681214), end=Point(712.4841,330.7694)), CubicBezier(start=Point(712.4841,330.7694), control1=Point(716.79859767,373.91475093), control2=Point(717.37304072,377.56349343), end=Point(712.4841,420.5846)), CubicBezier(start=Point(712.4841,420.5846), control1=Point(708.29422092,457.45411383), control2=Point(709.64631391,463.68354641), end=Point(693.7726,495.4306)), CubicBezier(start=Point(693.7726,495.4306), control1=Point(665.55303839,551.87009745), control2=Point(658.82662837,554.49981166), end=Point(618.9266,607.6996)), CubicBezier(start=Point(618.9266,607.6996), control1=Point(597.86830367,635.77732844), control2=Point(593.51713146,651.19148791), end=Point(570.2767,660.0918)), CubicBezier(start=Point(570.2767,660.0918), control1=Point(525.30398398,677.31536152), control2=Point(484.76065424,681.41018618), end=Point(443.0385,675.061)), CubicBezier(start=Point(443.0385,675.061), control1=Point(425.95302935,672.46122419), control2=Point(398.1309,633.8957), end=Point(398.1309,633.8957)), stroke='#000000', stroke_width=3.0000147950000002, id='0'),\n",
       "  Path(Move(end=Point(383.1617,274.6349)), CubicBezier(start=Point(383.1617,274.6349), control1=Point(383.1617,274.6349), control2=Point(385.34271244,264.02809911), end=Point(383.1617,259.6657)), CubicBezier(start=Point(383.1617,259.6657), control1=Point(379.88980711,253.12228845), control2=Point(376.50115446,250.63141357), end=Point(368.1925,244.6965)), CubicBezier(start=Point(368.1925,244.6965), control1=Point(338.07409537,223.18351422), control2=Point(334.04438673,211.63589911), end=Point(304.5734,203.5312)), CubicBezier(start=Point(304.5734,203.5312), control1=Point(270.7242965,194.22260298), control2=Point(255.39097071,197.76730954), end=Point(218.5005,203.5312)), CubicBezier(start=Point(218.5005,203.5312), control1=Point(202.81202994,205.98278073), control2=Point(199.76430082,211.0345115), end=Point(184.8198,222.2427)), CubicBezier(start=Point(184.8198,222.2427), control1=Point(155.81023886,244.00005797), control2=Point(153.48252826,244.96856521), end=Point(128.6853,270.8926)), CubicBezier(start=Point(128.6853,270.8926), control1=Point(113.54694804,286.71916093), control2=Point(109.46260182,289.29685717), end=Point(102.4892,308.3156)), CubicBezier(start=Point(102.4892,308.3156), control1=Point(90.57671064,340.80400322), control2=Point(90.60777173,346.10759078), end=Point(87.52,383.1616)), CubicBezier(start=Point(87.52,383.1616), control1=Point(83.26799874,434.18711204), control2=Point(80.2487111,440.16244245), end=Point(87.52,487.946)), CubicBezier(start=Point(87.52,487.946), control1=Point(92.4710629,520.48230466), control2=Point(97.39518124,524.58611084), end=Point(113.7161,555.3074)), CubicBezier(start=Point(113.7161,555.3074), control1=Point(128.2287394,582.62544154), control2=Point(130.84011634,583.17181734), end=Point(151.1391,607.6996)), CubicBezier(start=Point(151.1391,607.6996), control1=Point(175.36562751,636.97374175), control2=Point(175.66763112,639.18544105), end=Point(203.5313,663.8341)), CubicBezier(start=Point(203.5313,663.8341), control1=Point(223.02419224,681.07786994), control2=Point(226.52586235,686.92483946), end=Point(248.4389,693.7725)), CubicBezier(start=Point(248.4389,693.7725), control1=Point(279.6085167,703.51295844), control2=Point(301.61249224,709.92613795), end=Point(323.2849,701.2571)), CubicBezier(start=Point(323.2849,701.2571), control1=Point(353.98747766,688.97636832), control2=Point(398.1309,633.8957), end=Point(398.1309,633.8957)), stroke='#000000', stroke_width=3.0000147950000002, id='1'),\n",
       "  Path(Move(end=Point(368.1925,244.6965)), Line(start=Point(368.1925,244.6965), end=Point(379.4194,255.9234)), stroke='#000000', stroke_width=3.0000147950000002, id='2'),\n",
       "  Path(Move(end=Point(334.5118,270.8926)), CubicBezier(start=Point(334.5118,270.8926), control1=Point(334.5118,270.8926), control2=Point(341.4837049,288.59105939), end=Point(345.7387,289.6041)), CubicBezier(start=Point(345.7387,289.6041), control1=Point(364.0160932,293.95602067), control2=Point(393.68355068,296.59434217), end=Point(413.1001,289.6041)), CubicBezier(start=Point(413.1001,289.6041), control1=Point(424.14587268,285.62753202), control2=Point(439.2962,255.9234), end=Point(439.2962,255.9234)), stroke='#000000', stroke_width=3.0000147950000002, id='3'),\n",
       "  Path(Move(end=Point(364.4502,166.1082)), Line(start=Point(364.4502,166.1082), end=Point(368.1925,289.6041)), stroke='#000000', stroke_width=3.0000147950000002, id='4'),\n",
       "  Path(Move(end=Point(398.1309,177.3351)), Line(start=Point(398.1309,177.3351), end=Point(398.1309,289.6041)), stroke='#000000', stroke_width=3.0000147950000002, id='5'),\n",
       "  Path(Move(end=Point(368.1925,267.1503)), CubicBezier(start=Point(368.1925,267.1503), control1=Point(368.1925,267.1503), control2=Point(383.15533809,225.97414733), end=Point(383.1617,225.985)), CubicBezier(start=Point(383.1617,225.985), control1=Point(383.17479805,226.00820226), control2=Point(383.14860195,293.25471365), end=Point(383.1617,293.3464)), CubicBezier(start=Point(383.1617,293.3464), control1=Point(383.16431961,293.36548573), control2=Point(390.15194217,285.29708693), end=Point(390.6463,278.3772)), CubicBezier(start=Point(390.6463,278.3772), control1=Point(393.50953373,238.29005663), control2=Point(390.65453306,188.60615914), end=Point(390.6463,188.562)), CubicBezier(start=Point(390.6463,188.562), control1=Point(390.64368039,188.54852772), control2=Point(379.4194,218.50526499), end=Point(379.4194,218.5004)), CubicBezier(start=Point(379.4194,218.5004), control1=Point(379.4194,218.48206273), control2=Point(390.6463,98.74717423), end=Point(390.6463,98.7468)), CubicBezier(start=Point(390.6463,98.7468), control1=Point(390.6463,98.7468), control2=Point(390.6463,184.8197), end=Point(390.6463,184.8197)), CubicBezier(start=Point(390.6463,184.8197), control1=Point(390.6463,184.8197), control2=Point(390.94456131,116.39885487), end=Point(390.6463,113.716)), CubicBezier(start=Point(390.6463,113.716), control1=Point(390.63395041,113.60635061), control2=Point(383.37388841,116.11406584), end=Point(383.1617,117.4583)), CubicBezier(start=Point(383.1617,117.4583), control1=Point(380.23260179,136.00925533), control2=Point(379.41977423,184.81932577), end=Point(379.4194,184.8197)), CubicBezier(start=Point(379.4194,184.8197), control1=Point(379.4194,184.82007423), control2=Point(375.6771,132.4275), end=Point(375.6771,132.4275)), CubicBezier(start=Point(375.6771,132.4275), control1=Point(375.6771,132.4275), control2=Point(375.67784846,188.56274846), end=Point(375.6771,188.562)), CubicBezier(start=Point(375.6771,188.562), control1=Point(375.67635154,188.56125154), control2=Point(364.4502,121.2006), end=Point(364.4502,121.2006)), CubicBezier(start=Point(364.4502,121.2006), control1=Point(364.4502,121.2006), control2=Point(368.19100308,162.36777115), end=Point(368.1925,162.3659)), CubicBezier(start=Point(368.1925,162.3659), control1=Point(368.19474538,162.36290616), control2=Point(373.35837092,114.92700828), end=Point(375.6771,106.2314)), CubicBezier(start=Point(375.6771,106.2314), control1=Point(375.75681099,105.93313869), control2=Point(383.1617,106.2314), end=Point(383.1617,106.2314)), CubicBezier(start=Point(383.1617,106.2314), control1=Point(383.1617,106.2314), control2=Point(360.76366027,106.06449342), end=Point(360.7079,106.2314)), CubicBezier(start=Point(360.7079,106.2314), control1=Point(360.57804219,106.62097343), control2=Point(374.89308815,119.01659372), end=Point(375.6771,128.6852)), CubicBezier(start=Point(375.6771,128.6852), control1=Point(379.50958943,175.9541913), control2=Point(371.9348,244.6965), end=Point(371.9348,244.6965)), stroke='#000000', stroke_width=3.0000147950000002, id='6'),\n",
       "  Path(Move(end=Point(375.6771,278.3772)), Line(start=Point(375.6771,278.3772), end=Point(379.4194,237.2119)), stroke='#000000', stroke_width=3.0000147950000002, id='7')],\n",
       " Path(Move(end=Point(386.904,270.8926)), CubicBezier(start=Point(386.904,270.8926), control1=Point(386.904,270.8926), control2=Point(402.0341189,248.92866707), end=Point(420.5847,233.4696)), CubicBezier(start=Point(420.5847,233.4696), control1=Point(445.55669367,212.65979239), control2=Point(448.29755419,210.25761002), end=Point(476.7192,196.0466)), CubicBezier(start=Point(476.7192,196.0466), control1=Point(494.48277541,187.16499941), control2=Point(497.67645423,186.91014878), end=Point(517.8845,184.8197)), CubicBezier(start=Point(517.8845,184.8197), control1=Point(550.04470351,181.4927953), control2=Point(552.75562563,182.32059206), end=Point(585.2459,184.8197)), CubicBezier(start=Point(585.2459,184.8197), control1=Point(599.96361744,185.95211998), control2=Point(603.54350162,185.32004551), end=Point(615.1843,192.3043)), CubicBezier(start=Point(615.1843,192.3043), control1=Point(646.56385973,211.13218553), control2=Point(651.81992008,215.19707179), end=Point(678.8034,240.9542)), CubicBezier(start=Point(678.8034,240.9542), control1=Point(690.39779386,252.02167802), control2=Point(691.73267227,255.47357554), end=Point(697.5149,270.8926)), CubicBezier(start=Point(697.5149,270.8926), control1=Point(707.76169163,298.21737768), control2=Point(709.53591606,301.28681214), end=Point(712.4841,330.7694)), CubicBezier(start=Point(712.4841,330.7694), control1=Point(716.79859767,373.91475093), control2=Point(717.37304072,377.56349343), end=Point(712.4841,420.5846)), CubicBezier(start=Point(712.4841,420.5846), control1=Point(708.29422092,457.45411383), control2=Point(709.64631391,463.68354641), end=Point(693.7726,495.4306)), CubicBezier(start=Point(693.7726,495.4306), control1=Point(665.55303839,551.87009745), control2=Point(658.82662837,554.49981166), end=Point(618.9266,607.6996)), CubicBezier(start=Point(618.9266,607.6996), control1=Point(597.86830367,635.77732844), control2=Point(593.51713146,651.19148791), end=Point(570.2767,660.0918)), CubicBezier(start=Point(570.2767,660.0918), control1=Point(525.30398398,677.31536152), control2=Point(484.76065424,681.41018618), end=Point(443.0385,675.061)), CubicBezier(start=Point(443.0385,675.061), control1=Point(425.95302935,672.46122419), control2=Point(398.1309,633.8957), end=Point(398.1309,633.8957)), stroke='#000000', stroke_width=3.0000147950000002, id='0'),\n",
       " Path(Move(end=Point(383.1617,274.6349)), CubicBezier(start=Point(383.1617,274.6349), control1=Point(383.1617,274.6349), control2=Point(385.34271244,264.02809911), end=Point(383.1617,259.6657)), CubicBezier(start=Point(383.1617,259.6657), control1=Point(379.88980711,253.12228845), control2=Point(376.50115446,250.63141357), end=Point(368.1925,244.6965)), CubicBezier(start=Point(368.1925,244.6965), control1=Point(338.07409537,223.18351422), control2=Point(334.04438673,211.63589911), end=Point(304.5734,203.5312)), CubicBezier(start=Point(304.5734,203.5312), control1=Point(270.7242965,194.22260298), control2=Point(255.39097071,197.76730954), end=Point(218.5005,203.5312)), CubicBezier(start=Point(218.5005,203.5312), control1=Point(202.81202994,205.98278073), control2=Point(199.76430082,211.0345115), end=Point(184.8198,222.2427)), CubicBezier(start=Point(184.8198,222.2427), control1=Point(155.81023886,244.00005797), control2=Point(153.48252826,244.96856521), end=Point(128.6853,270.8926)), CubicBezier(start=Point(128.6853,270.8926), control1=Point(113.54694804,286.71916093), control2=Point(109.46260182,289.29685717), end=Point(102.4892,308.3156)), CubicBezier(start=Point(102.4892,308.3156), control1=Point(90.57671064,340.80400322), control2=Point(90.60777173,346.10759078), end=Point(87.52,383.1616)), CubicBezier(start=Point(87.52,383.1616), control1=Point(83.26799874,434.18711204), control2=Point(80.2487111,440.16244245), end=Point(87.52,487.946)), CubicBezier(start=Point(87.52,487.946), control1=Point(92.4710629,520.48230466), control2=Point(97.39518124,524.58611084), end=Point(113.7161,555.3074)), CubicBezier(start=Point(113.7161,555.3074), control1=Point(128.2287394,582.62544154), control2=Point(130.84011634,583.17181734), end=Point(151.1391,607.6996)), CubicBezier(start=Point(151.1391,607.6996), control1=Point(175.36562751,636.97374175), control2=Point(175.66763112,639.18544105), end=Point(203.5313,663.8341)), CubicBezier(start=Point(203.5313,663.8341), control1=Point(223.02419224,681.07786994), control2=Point(226.52586235,686.92483946), end=Point(248.4389,693.7725)), CubicBezier(start=Point(248.4389,693.7725), control1=Point(279.6085167,703.51295844), control2=Point(301.61249224,709.92613795), end=Point(323.2849,701.2571)), CubicBezier(start=Point(323.2849,701.2571), control1=Point(353.98747766,688.97636832), control2=Point(398.1309,633.8957), end=Point(398.1309,633.8957)), stroke='#000000', stroke_width=3.0000147950000002, id='1'),\n",
       " Path(Move(end=Point(368.1925,244.6965)), Line(start=Point(368.1925,244.6965), end=Point(379.4194,255.9234)), stroke='#000000', stroke_width=3.0000147950000002, id='2'),\n",
       " Path(Move(end=Point(334.5118,270.8926)), CubicBezier(start=Point(334.5118,270.8926), control1=Point(334.5118,270.8926), control2=Point(341.4837049,288.59105939), end=Point(345.7387,289.6041)), CubicBezier(start=Point(345.7387,289.6041), control1=Point(364.0160932,293.95602067), control2=Point(393.68355068,296.59434217), end=Point(413.1001,289.6041)), CubicBezier(start=Point(413.1001,289.6041), control1=Point(424.14587268,285.62753202), control2=Point(439.2962,255.9234), end=Point(439.2962,255.9234)), stroke='#000000', stroke_width=3.0000147950000002, id='3'),\n",
       " Path(Move(end=Point(364.4502,166.1082)), Line(start=Point(364.4502,166.1082), end=Point(368.1925,289.6041)), stroke='#000000', stroke_width=3.0000147950000002, id='4'),\n",
       " Path(Move(end=Point(398.1309,177.3351)), Line(start=Point(398.1309,177.3351), end=Point(398.1309,289.6041)), stroke='#000000', stroke_width=3.0000147950000002, id='5'),\n",
       " Path(Move(end=Point(368.1925,267.1503)), CubicBezier(start=Point(368.1925,267.1503), control1=Point(368.1925,267.1503), control2=Point(383.15533809,225.97414733), end=Point(383.1617,225.985)), CubicBezier(start=Point(383.1617,225.985), control1=Point(383.17479805,226.00820226), control2=Point(383.14860195,293.25471365), end=Point(383.1617,293.3464)), CubicBezier(start=Point(383.1617,293.3464), control1=Point(383.16431961,293.36548573), control2=Point(390.15194217,285.29708693), end=Point(390.6463,278.3772)), CubicBezier(start=Point(390.6463,278.3772), control1=Point(393.50953373,238.29005663), control2=Point(390.65453306,188.60615914), end=Point(390.6463,188.562)), CubicBezier(start=Point(390.6463,188.562), control1=Point(390.64368039,188.54852772), control2=Point(379.4194,218.50526499), end=Point(379.4194,218.5004)), CubicBezier(start=Point(379.4194,218.5004), control1=Point(379.4194,218.48206273), control2=Point(390.6463,98.74717423), end=Point(390.6463,98.7468)), CubicBezier(start=Point(390.6463,98.7468), control1=Point(390.6463,98.7468), control2=Point(390.6463,184.8197), end=Point(390.6463,184.8197)), CubicBezier(start=Point(390.6463,184.8197), control1=Point(390.6463,184.8197), control2=Point(390.94456131,116.39885487), end=Point(390.6463,113.716)), CubicBezier(start=Point(390.6463,113.716), control1=Point(390.63395041,113.60635061), control2=Point(383.37388841,116.11406584), end=Point(383.1617,117.4583)), CubicBezier(start=Point(383.1617,117.4583), control1=Point(380.23260179,136.00925533), control2=Point(379.41977423,184.81932577), end=Point(379.4194,184.8197)), CubicBezier(start=Point(379.4194,184.8197), control1=Point(379.4194,184.82007423), control2=Point(375.6771,132.4275), end=Point(375.6771,132.4275)), CubicBezier(start=Point(375.6771,132.4275), control1=Point(375.6771,132.4275), control2=Point(375.67784846,188.56274846), end=Point(375.6771,188.562)), CubicBezier(start=Point(375.6771,188.562), control1=Point(375.67635154,188.56125154), control2=Point(364.4502,121.2006), end=Point(364.4502,121.2006)), CubicBezier(start=Point(364.4502,121.2006), control1=Point(364.4502,121.2006), control2=Point(368.19100308,162.36777115), end=Point(368.1925,162.3659)), CubicBezier(start=Point(368.1925,162.3659), control1=Point(368.19474538,162.36290616), control2=Point(373.35837092,114.92700828), end=Point(375.6771,106.2314)), CubicBezier(start=Point(375.6771,106.2314), control1=Point(375.75681099,105.93313869), control2=Point(383.1617,106.2314), end=Point(383.1617,106.2314)), CubicBezier(start=Point(383.1617,106.2314), control1=Point(383.1617,106.2314), control2=Point(360.76366027,106.06449342), end=Point(360.7079,106.2314)), CubicBezier(start=Point(360.7079,106.2314), control1=Point(360.57804219,106.62097343), control2=Point(374.89308815,119.01659372), end=Point(375.6771,128.6852)), CubicBezier(start=Point(375.6771,128.6852), control1=Point(379.50958943,175.9541913), control2=Point(371.9348,244.6965), end=Point(371.9348,244.6965)), stroke='#000000', stroke_width=3.0000147950000002, id='6'),\n",
       " Path(Move(end=Point(375.6771,278.3772)), Line(start=Point(375.6771,278.3772), end=Point(379.4194,237.2119)), stroke='#000000', stroke_width=3.0000147950000002, id='7')]"
      ]
     },
     "execution_count": 29,
     "metadata": {},
     "output_type": "execute_result"
    }
   ],
   "source": [
    "list(svg.elements())"
   ]
  },
  {
   "cell_type": "code",
   "execution_count": null,
   "id": "35f9b6c2",
   "metadata": {},
   "outputs": [],
   "source": []
  }
 ],
 "metadata": {
  "kernelspec": {
   "display_name": "Python 3 (ipykernel)",
   "language": "python",
   "name": "python3"
  },
  "language_info": {
   "codemirror_mode": {
    "name": "ipython",
    "version": 3
   },
   "file_extension": ".py",
   "mimetype": "text/x-python",
   "name": "python",
   "nbconvert_exporter": "python",
   "pygments_lexer": "ipython3",
   "version": "3.10.9"
  }
 },
 "nbformat": 4,
 "nbformat_minor": 5
}
