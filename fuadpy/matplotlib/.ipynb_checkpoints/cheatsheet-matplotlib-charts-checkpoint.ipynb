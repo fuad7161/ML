{
 "cells": [
  {
   "cell_type": "markdown",
   "metadata": {
    "papermill": {
     "duration": 0.043884,
     "end_time": "2023-07-06T01:03:21.521489",
     "exception": false,
     "start_time": "2023-07-06T01:03:21.477605",
     "status": "completed"
    },
    "tags": []
   },
   "source": [
    "<font color='blue' size=10><center><u> Cheatsheet - Matplotlib Charts</u></center> </font>"
   ]
  },
  {
   "cell_type": "markdown",
   "metadata": {
    "papermill": {
     "duration": 0.034532,
     "end_time": "2023-07-06T01:03:21.592865",
     "exception": false,
     "start_time": "2023-07-06T01:03:21.558333",
     "status": "completed"
    },
    "tags": []
   },
   "source": [
    "This kernel is all about matplotlib charts -- the basic python data visualization tool."
   ]
  },
  {
   "cell_type": "markdown",
   "metadata": {
    "papermill": {
     "duration": 0.033604,
     "end_time": "2023-07-06T01:03:21.660669",
     "exception": false,
     "start_time": "2023-07-06T01:03:21.627065",
     "status": "completed"
    },
    "tags": []
   },
   "source": [
    "<font color='red' size=5> Please Upvote my kernel and keep it in your favourite section if you think it is helpful.</font>"
   ]
  },
  {
   "cell_type": "markdown",
   "metadata": {
    "papermill": {
     "duration": 0.036941,
     "end_time": "2023-07-06T01:03:21.731734",
     "exception": false,
     "start_time": "2023-07-06T01:03:21.694793",
     "status": "completed"
    },
    "tags": []
   },
   "source": [
    "In the last few months, I was working extensively on plots and to be honest it is hard to remember each and everything and I am tired of looking back and forth in my notebooks for the reference. This hectic process motivates me to prepare this notebook not only for me but also others. Now I dont have to look at different notebooks for the reference only this one enough. I am making this notebook specially copy paste purpose and for beginners to learn matplotlib.\n",
    "\n",
    "I used different datasets such as titanic, heart-disease, iris, pima-indians-diabetes, heart-failure-clinical data and pokemon datasets available on kaggle. All this datasets are used for visulization purpose only, I not trying to say or interpret any conclusion here. \n",
    "\n",
    "Enjoy! 😄"
   ]
  },
  {
   "cell_type": "markdown",
   "metadata": {
    "papermill": {
     "duration": 0.034052,
     "end_time": "2023-07-06T01:03:21.800101",
     "exception": false,
     "start_time": "2023-07-06T01:03:21.766049",
     "status": "completed"
    },
    "tags": []
   },
   "source": [
    "<a id=\"TOC\"></a>\n",
    "\n",
    "<div class=\"list-group\" id=\"list-tab\" role=\"tablist\">\n",
    "<h1 class=\"list-group-item list-group-item-action active\" data-toggle=\"list\" style='background:blue; border:0' role=\"tab\" aria-controls=\"home\"><center>Table of Content</center></h1>\n",
    "    \n",
    "1. [Introduction](#introduction)\n",
    "2. [Libraries](#library)\n",
    "3. [Data](#data)\n",
    "4. [Scatter Plot](#scatter_plot)\n",
    "    1. [Basic Scatter Plot](#basic_scatter_plot)\n",
    "    2. [Scatter Plot - Category](#categor_scatter_plot)\n",
    "    3. [Scatter Plot with Regression Fit](#reg_scatter_plot)\n",
    "    4. [Control shape of element in Scatter Plot](#shape_scatter_plot)\n",
    "    5. [Using color Palletes in Scatter Plot](#color_scatter_plot)\n",
    "5. [Line Plot](#line_plot)\n",
    "    1. [Basic Line Plot](#basic_line_plot)\n",
    "    2. [Line Plot - Category](#category_line_plot)\n",
    "6. [Histogram](#histogram)\n",
    "    1. [Basic Histogram Plot](#basic_histogram_plot)\n",
    "    2. [Histogram Plot : Control Number of Bins](#bins_histogram_plot)\n",
    "    3. [Histogram Plot : Control Density](#kde_histogram_plot)\n",
    "7. [Bar Plot](#bar_plot)\n",
    "    1. [Basic Bar Plot](#basic_bar_plot)\n",
    "    2. [Horizontal Bar Plot](#horizontal_bar_plot)"
   ]
  },
  {
   "cell_type": "markdown",
   "metadata": {
    "papermill": {
     "duration": 0.034487,
     "end_time": "2023-07-06T01:03:21.868784",
     "exception": false,
     "start_time": "2023-07-06T01:03:21.834297",
     "status": "completed"
    },
    "tags": []
   },
   "source": [
    "<a id=\"introduction\"></a>\n",
    "<h1 style='background:blue; border:0; color:white'><center>Introduction</center><h1>"
   ]
  },
  {
   "cell_type": "markdown",
   "metadata": {
    "papermill": {
     "duration": 0.033979,
     "end_time": "2023-07-06T01:03:21.936787",
     "exception": false,
     "start_time": "2023-07-06T01:03:21.902808",
     "status": "completed"
    },
    "tags": []
   },
   "source": [
    "## Matplotlib\n",
    "Matplotlib is a plotting library for the Python programming language. It allows to make quality charts in few lines of code. Most of the other python plotting library are build on top of Matplotlib. It makes that a basic understanding of matplotlib is probably needed to make any chart with python.\n"
   ]
  },
  {
   "cell_type": "markdown",
   "metadata": {
    "papermill": {
     "duration": 0.033752,
     "end_time": "2023-07-06T01:03:22.004542",
     "exception": false,
     "start_time": "2023-07-06T01:03:21.970790",
     "status": "completed"
    },
    "tags": []
   },
   "source": [
    "<a id=\"library\"></a>\n",
    "<h1 style='background:blue; border:0; color:white'><center>Libraries</center><h1>"
   ]
  },
  {
   "cell_type": "code",
   "execution_count": 1,
   "metadata": {
    "_cell_guid": "b1076dfc-b9ad-4769-8c92-a6c4dae69d19",
    "_uuid": "8f2839f25d086af736a60e9eeb907d3b93b6e0e5",
    "execution": {
     "iopub.execute_input": "2023-07-06T01:03:22.079342Z",
     "iopub.status.busy": "2023-07-06T01:03:22.078153Z",
     "iopub.status.idle": "2023-07-06T01:03:22.080929Z",
     "shell.execute_reply": "2023-07-06T01:03:22.081619Z"
    },
    "papermill": {
     "duration": 0.043066,
     "end_time": "2023-07-06T01:03:22.081828",
     "exception": false,
     "start_time": "2023-07-06T01:03:22.038762",
     "status": "completed"
    },
    "tags": []
   },
   "outputs": [],
   "source": [
    "# Import dependencies\n",
    "\n",
    "import numpy as np\n",
    "import pandas as pd\n",
    "\n",
    "import matplotlib.pyplot as plt"
   ]
  },
  {
   "cell_type": "markdown",
   "metadata": {
    "papermill": {
     "duration": 0.033713,
     "end_time": "2023-07-06T01:03:22.150597",
     "exception": false,
     "start_time": "2023-07-06T01:03:22.116884",
     "status": "completed"
    },
    "tags": []
   },
   "source": [
    "<a id=\"data\"></a>\n",
    "<h1 style='background:blue; border:0; color:white'><center>Load Data</center><h1>"
   ]
  },
  {
   "cell_type": "code",
   "execution_count": 2,
   "metadata": {
    "_cell_guid": "79c7e3d0-c299-4dcb-8224-4455121ee9b0",
    "_uuid": "d629ff2d2480ee46fbb7e2d37f6b5fab8052498a",
    "execution": {
     "iopub.execute_input": "2023-07-06T01:03:22.223494Z",
     "iopub.status.busy": "2023-07-06T01:03:22.222371Z",
     "iopub.status.idle": "2023-07-06T01:03:23.031350Z",
     "shell.execute_reply": "2023-07-06T01:03:23.030650Z"
    },
    "papermill": {
     "duration": 0.846533,
     "end_time": "2023-07-06T01:03:23.031483",
     "exception": false,
     "start_time": "2023-07-06T01:03:22.184950",
     "status": "completed"
    },
    "tags": []
   },
   "outputs": [],
   "source": [
    "titanic=pd.read_csv('../input/titanic/train.csv')\n",
    "heart_diseases=pd.read_csv('../input/heart-disease-uci/heart.csv')\n",
    "iris=pd.read_csv('../input/iris/Iris.csv')\n",
    "diabetes=pd.read_csv('../input/pima-indians-diabetes-database/diabetes.csv')\n",
    "pokemon=pd.read_csv('../input/pokemon/Pokemon.csv')\n",
    "heart_failure=pd.read_csv('../input/heart-failure-clinical-data/heart_failure_clinical_records_dataset.csv')\n",
    "corona_virus = pd.read_csv('../input/novel-corona-virus-2019-dataset/covid_19_data.csv')\n",
    "latest_covid_cases = pd.read_csv('../input/novel-covid19-dataset/cases_country.csv')"
   ]
  },
  {
   "cell_type": "markdown",
   "metadata": {
    "papermill": {
     "duration": 0.040796,
     "end_time": "2023-07-06T01:03:23.112029",
     "exception": false,
     "start_time": "2023-07-06T01:03:23.071233",
     "status": "completed"
    },
    "tags": []
   },
   "source": [
    "<a id=\"scatter_plot\"></a>\n",
    "<h1 style='background:blue; border:0; color:white'><center>Scatter Plot</center><h1>"
   ]
  },
  {
   "cell_type": "markdown",
   "metadata": {
    "papermill": {
     "duration": 0.034247,
     "end_time": "2023-07-06T01:03:23.190915",
     "exception": false,
     "start_time": "2023-07-06T01:03:23.156668",
     "status": "completed"
    },
    "tags": []
   },
   "source": [
    "A Scatterplot displays the value of 2 sets of data on 2 dimensions. Each dot represents an observation. The position on the X (horizontal) and Y (vertical) axis represents the values of the 2 variables. It is really useful to study the relationship between both variables. It is common to provide even more information using colors or shapes (to show groups, or a third variable). It is also possible to map another variable to the size of each dot, what makes a bubble plot. If you have many dots and struggle with overplotting, consider using 2D density plot."
   ]
  },
  {
   "cell_type": "markdown",
   "metadata": {
    "papermill": {
     "duration": 0.045303,
     "end_time": "2023-07-06T01:03:23.273305",
     "exception": false,
     "start_time": "2023-07-06T01:03:23.228002",
     "status": "completed"
    },
    "tags": []
   },
   "source": [
    "![](https://datavizcatalogue.com/methods/images/anatomy/scatterplot.png)\n",
    "<font size=1><center> Source: [DataVizCatalogue](https://datavizcatalogue.com/methods/images/anatomy/scatterplot.png) </center></font>"
   ]
  },
  {
   "cell_type": "code",
   "execution_count": 3,
   "metadata": {
    "execution": {
     "iopub.execute_input": "2023-07-06T01:03:23.372053Z",
     "iopub.status.busy": "2023-07-06T01:03:23.369701Z",
     "iopub.status.idle": "2023-07-06T01:03:23.600022Z",
     "shell.execute_reply": "2023-07-06T01:03:23.600636Z"
    },
    "papermill": {
     "duration": 0.286145,
     "end_time": "2023-07-06T01:03:23.600800",
     "exception": false,
     "start_time": "2023-07-06T01:03:23.314655",
     "status": "completed"
    },
    "tags": []
   },
   "outputs": [
    {
     "data": {
      "image/png": "[encoded data removed]",
      "text/plain": [
       "<Figure size 432x288 with 1 Axes>"
      ]
     },
     "metadata": {
      "needs_background": "light"
     },
     "output_type": "display_data"
    }
   ],
   "source": [
    "plt.plot(iris['PetalLengthCm'], iris['PetalWidthCm'], linestyle='none', marker='o', color='b')\n",
    "plt.show()"
   ]
  },
  {
   "cell_type": "markdown",
   "metadata": {
    "papermill": {
     "duration": 0.036354,
     "end_time": "2023-07-06T01:03:23.673562",
     "exception": false,
     "start_time": "2023-07-06T01:03:23.637208",
     "status": "completed"
    },
    "tags": []
   },
   "source": [
    "<a id=\"line_plot\"></a>\n",
    "<h1 style='background:blue; border:0; color:white'><center>Line Plot</center><h1>"
   ]
  },
  {
   "cell_type": "markdown",
   "metadata": {
    "papermill": {
     "duration": 0.0354,
     "end_time": "2023-07-06T01:03:23.746627",
     "exception": false,
     "start_time": "2023-07-06T01:03:23.711227",
     "status": "completed"
    },
    "tags": []
   },
   "source": [
    "![](https://datavizcatalogue.com/methods/images/anatomy/line_graph.png)\n",
    "<font size=1><center>Source: [DataVizCatalogue](https://datavizcatalogue.com/methods/images/anatomy/line_graph.png)</center></font>"
   ]
  },
  {
   "cell_type": "code",
   "execution_count": 4,
   "metadata": {
    "execution": {
     "iopub.execute_input": "2023-07-06T01:03:23.826001Z",
     "iopub.status.busy": "2023-07-06T01:03:23.825076Z",
     "iopub.status.idle": "2023-07-06T01:03:24.076120Z",
     "shell.execute_reply": "2023-07-06T01:03:24.075426Z"
    },
    "papermill": {
     "duration": 0.293443,
     "end_time": "2023-07-06T01:03:24.076280",
     "exception": false,
     "start_time": "2023-07-06T01:03:23.782837",
     "status": "completed"
    },
    "tags": []
   },
   "outputs": [
    {
     "data": {
      "image/png": "[encoded data removed]",
      "text/plain": [
       "<Figure size 432x288 with 1 Axes>"
      ]
     },
     "metadata": {
      "needs_background": "light"
     },
     "output_type": "display_data"
    }
   ],
   "source": [
    "x = np.linspace(0, 20, 1000)\n",
    "y = np.cos(x)\n",
    "\n",
    "plt.plot(x,y, color='b', linestyle='--')\n",
    "plt.show()"
   ]
  },
  {
   "cell_type": "markdown",
   "metadata": {
    "papermill": {
     "duration": 0.037894,
     "end_time": "2023-07-06T01:03:24.151311",
     "exception": false,
     "start_time": "2023-07-06T01:03:24.113417",
     "status": "completed"
    },
    "tags": []
   },
   "source": [
    "<a id=\"histogram\"></a>\n",
    "<h1 style='background:blue; border:0; color:white'><center>Histogram</center></h1>\n",
    "\n",
    "An histogram is an accurate graphical representation of the distribution of numerical data. It takes as input one numerical variable only. The variable is cut into several bins, and the\n",
    "number of observation per bin is represented by the height of the bar."
   ]
  },
  {
   "cell_type": "markdown",
   "metadata": {
    "papermill": {
     "duration": 0.036443,
     "end_time": "2023-07-06T01:03:24.224833",
     "exception": false,
     "start_time": "2023-07-06T01:03:24.188390",
     "status": "completed"
    },
    "tags": []
   },
   "source": [
    "![](https://datavizcatalogue.com/methods/images/anatomy/histogram.png)\n",
    "<font size=1><center>Source: [DataVizCatalogue](https://datavizcatalogue.com/methods/images/anatomy/histogram.png)</center></font>"
   ]
  },
  {
   "cell_type": "code",
   "execution_count": 5,
   "metadata": {
    "execution": {
     "iopub.execute_input": "2023-07-06T01:03:24.305717Z",
     "iopub.status.busy": "2023-07-06T01:03:24.304954Z",
     "iopub.status.idle": "2023-07-06T01:03:24.493307Z",
     "shell.execute_reply": "2023-07-06T01:03:24.492692Z"
    },
    "papermill": {
     "duration": 0.2317,
     "end_time": "2023-07-06T01:03:24.493441",
     "exception": false,
     "start_time": "2023-07-06T01:03:24.261741",
     "status": "completed"
    },
    "tags": []
   },
   "outputs": [
    {
     "data": {
      "text/plain": [
       "Text(0.5, 1.0, 'Age distribution.')"
      ]
     },
     "execution_count": 5,
     "metadata": {},
     "output_type": "execute_result"
    },
    {
     "data": {
      "image/png": "[encoded data removed]",
      "text/plain": [
       "<Figure size 432x288 with 1 Axes>"
      ]
     },
     "metadata": {
      "needs_background": "light"
     },
     "output_type": "display_data"
    }
   ],
   "source": [
    "plt.hist(heart_diseases['age'])\n",
    "plt.xlabel('Age')\n",
    "plt.ylabel('Count')\n",
    "plt.title('Age distribution.')"
   ]
  },
  {
   "cell_type": "markdown",
   "metadata": {
    "papermill": {
     "duration": 0.039259,
     "end_time": "2023-07-06T01:03:24.572660",
     "exception": false,
     "start_time": "2023-07-06T01:03:24.533401",
     "status": "completed"
    },
    "tags": []
   },
   "source": [
    "<a id=\"bar_plot\"></a>\n",
    "<h1 style='background:blue; border:0; color:white'><center>Bar Plot</center></h1>\n",
    "\n",
    "A barplot (or barchart) is one of the most common type of plot. It shows the relationship between a numerical variable and a categorical variable. For example, you can display the height of several individuals using bar chart."
   ]
  },
  {
   "cell_type": "markdown",
   "metadata": {
    "papermill": {
     "duration": 0.03847,
     "end_time": "2023-07-06T01:03:24.650178",
     "exception": false,
     "start_time": "2023-07-06T01:03:24.611708",
     "status": "completed"
    },
    "tags": []
   },
   "source": [
    "![](https://datavizcatalogue.com/methods/images/anatomy/bar_chart.png)\n",
    "<font size=1><center>Source: [DataVizCatalogue](https://datavizcatalogue.com/methods/images/anatomy/bar_chart.png)</center></font>"
   ]
  },
  {
   "cell_type": "code",
   "execution_count": 6,
   "metadata": {
    "execution": {
     "iopub.execute_input": "2023-07-06T01:03:24.736199Z",
     "iopub.status.busy": "2023-07-06T01:03:24.735435Z",
     "iopub.status.idle": "2023-07-06T01:03:24.741439Z",
     "shell.execute_reply": "2023-07-06T01:03:24.740699Z"
    },
    "papermill": {
     "duration": 0.052466,
     "end_time": "2023-07-06T01:03:24.741566",
     "exception": false,
     "start_time": "2023-07-06T01:03:24.689100",
     "status": "completed"
    },
    "tags": []
   },
   "outputs": [],
   "source": [
    "bar_data = pokemon['Type 1'].value_counts().reset_index()\n",
    "bar_data['err'] = pokemon['Type 1'].value_counts().std()"
   ]
  },
  {
   "cell_type": "code",
   "execution_count": 7,
   "metadata": {
    "execution": {
     "iopub.execute_input": "2023-07-06T01:03:24.833065Z",
     "iopub.status.busy": "2023-07-06T01:03:24.832280Z",
     "iopub.status.idle": "2023-07-06T01:03:25.050337Z",
     "shell.execute_reply": "2023-07-06T01:03:25.049591Z"
    },
    "papermill": {
     "duration": 0.26984,
     "end_time": "2023-07-06T01:03:25.050470",
     "exception": false,
     "start_time": "2023-07-06T01:03:24.780630",
     "status": "completed"
    },
    "tags": []
   },
   "outputs": [
    {
     "data": {
      "text/plain": [
       "Text(0.5, 1.0, 'Abilities of Pokemons')"
      ]
     },
     "execution_count": 7,
     "metadata": {},
     "output_type": "execute_result"
    },
    {
     "data": {
      "image/png": "[encoded data removed]",
      "text/plain": [
       "<Figure size 432x288 with 1 Axes>"
      ]
     },
     "metadata": {
      "needs_background": "light"
     },
     "output_type": "display_data"
    }
   ],
   "source": [
    "plt.bar(bar_data['index'], bar_data['Type 1'])\n",
    "plt.xticks(rotation=90)\n",
    "plt.xlabel('Ability')\n",
    "plt.ylabel('Count')\n",
    "plt.title(\"Abilities of Pokemons\")"
   ]
  },
  {
   "cell_type": "markdown",
   "metadata": {
    "papermill": {
     "duration": 0.041696,
     "end_time": "2023-07-06T01:03:25.133183",
     "exception": false,
     "start_time": "2023-07-06T01:03:25.091487",
     "status": "completed"
    },
    "tags": []
   },
   "source": [
    "<a id=\"h_bar_plot\"></a>\n",
    "<h1 style='background:blue; border:0; color:white'><center>Horizontal Bar Plot</center></h1>"
   ]
  },
  {
   "cell_type": "code",
   "execution_count": 8,
   "metadata": {
    "execution": {
     "iopub.execute_input": "2023-07-06T01:03:25.229546Z",
     "iopub.status.busy": "2023-07-06T01:03:25.228771Z",
     "iopub.status.idle": "2023-07-06T01:03:25.454388Z",
     "shell.execute_reply": "2023-07-06T01:03:25.453601Z"
    },
    "papermill": {
     "duration": 0.280316,
     "end_time": "2023-07-06T01:03:25.454523",
     "exception": false,
     "start_time": "2023-07-06T01:03:25.174207",
     "status": "completed"
    },
    "tags": []
   },
   "outputs": [
    {
     "data": {
      "text/plain": [
       "Text(0.5, 1.0, 'Abilities of Pokemons')"
      ]
     },
     "execution_count": 8,
     "metadata": {},
     "output_type": "execute_result"
    },
    {
     "data": {
      "image/png": "[encoded data removed]",
      "text/plain": [
       "<Figure size 720x432 with 1 Axes>"
      ]
     },
     "metadata": {
      "needs_background": "light"
     },
     "output_type": "display_data"
    }
   ],
   "source": [
    "plt.figure(figsize=(10,6))\n",
    "plt.barh(bar_data['index'], bar_data['Type 1'])\n",
    "plt.xlabel('Ability')\n",
    "plt.ylabel('Count')\n",
    "plt.title(\"Abilities of Pokemons\")"
   ]
  },
  {
   "cell_type": "markdown",
   "metadata": {
    "papermill": {
     "duration": 0.04205,
     "end_time": "2023-07-06T01:03:25.539324",
     "exception": false,
     "start_time": "2023-07-06T01:03:25.497274",
     "status": "completed"
    },
    "tags": []
   },
   "source": [
    "<a id=\"e_bar_plot\"></a>\n",
    "<h1 style='background:blue; border:0; color:white'><center>Error Bar Plot</center></h1>"
   ]
  },
  {
   "cell_type": "code",
   "execution_count": 9,
   "metadata": {
    "execution": {
     "iopub.execute_input": "2023-07-06T01:03:25.631602Z",
     "iopub.status.busy": "2023-07-06T01:03:25.630424Z",
     "iopub.status.idle": "2023-07-06T01:03:25.862188Z",
     "shell.execute_reply": "2023-07-06T01:03:25.861341Z"
    },
    "papermill": {
     "duration": 0.280894,
     "end_time": "2023-07-06T01:03:25.862324",
     "exception": false,
     "start_time": "2023-07-06T01:03:25.581430",
     "status": "completed"
    },
    "tags": []
   },
   "outputs": [
    {
     "data": {
      "text/plain": [
       "Text(0.5, 1.0, 'Abilities of Pokemons')"
      ]
     },
     "execution_count": 9,
     "metadata": {},
     "output_type": "execute_result"
    },
    {
     "data": {
      "image/png": "[encoded data removed]",
      "text/plain": [
       "<Figure size 432x288 with 1 Axes>"
      ]
     },
     "metadata": {
      "needs_background": "light"
     },
     "output_type": "display_data"
    }
   ],
   "source": [
    "plt.bar(bar_data['index'], bar_data['Type 1'], yerr=bar_data['err'])\n",
    "plt.xticks(rotation=90)\n",
    "plt.xlabel('Ability')\n",
    "plt.ylabel('Count')\n",
    "plt.title(\"Abilities of Pokemons\")"
   ]
  },
  {
   "cell_type": "markdown",
   "metadata": {
    "papermill": {
     "duration": 0.043943,
     "end_time": "2023-07-06T01:03:25.951333",
     "exception": false,
     "start_time": "2023-07-06T01:03:25.907390",
     "status": "completed"
    },
    "tags": []
   },
   "source": [
    "<a id=\"box_plot\"></a>\n",
    "<h1 style='background:blue; border:0; color:white'><center>Box Plot</center></h1>\n",
    "\n",
    "A Box and Whisker Plot (or Box Plot) is a convenient way of visually displaying the data distribution through their quartiles."
   ]
  },
  {
   "cell_type": "markdown",
   "metadata": {
    "papermill": {
     "duration": 0.043249,
     "end_time": "2023-07-06T01:03:26.038723",
     "exception": false,
     "start_time": "2023-07-06T01:03:25.995474",
     "status": "completed"
    },
    "tags": []
   },
   "source": [
    "![](https://datavizcatalogue.com/methods/images/anatomy/box_plot.png)\n",
    "<font size=1><center>Source: [DataVizCatalogue](https://datavizcatalogue.com/methods/images/anatomy/box_plot.png)</center></font>"
   ]
  },
  {
   "cell_type": "markdown",
   "metadata": {
    "papermill": {
     "duration": 0.043131,
     "end_time": "2023-07-06T01:03:26.125278",
     "exception": false,
     "start_time": "2023-07-06T01:03:26.082147",
     "status": "completed"
    },
    "tags": []
   },
   "source": [
    "<a id=\"s_box_plot\"></a>\n",
    "<h1 style='background:blue; border:0; color:white'><center>Simple Box Plot</center></h1>"
   ]
  },
  {
   "cell_type": "code",
   "execution_count": 10,
   "metadata": {
    "execution": {
     "iopub.execute_input": "2023-07-06T01:03:26.225634Z",
     "iopub.status.busy": "2023-07-06T01:03:26.219400Z",
     "iopub.status.idle": "2023-07-06T01:03:26.350278Z",
     "shell.execute_reply": "2023-07-06T01:03:26.350866Z"
    },
    "papermill": {
     "duration": 0.181271,
     "end_time": "2023-07-06T01:03:26.351039",
     "exception": false,
     "start_time": "2023-07-06T01:03:26.169768",
     "status": "completed"
    },
    "tags": []
   },
   "outputs": [
    {
     "data": {
      "text/plain": [
       "Text(0.5, 1.0, 'Simple Box Plot')"
      ]
     },
     "execution_count": 10,
     "metadata": {},
     "output_type": "execute_result"
    },
    {
     "data": {
      "image/png": "[encoded data removed]",
      "text/plain": [
       "<Figure size 720x432 with 1 Axes>"
      ]
     },
     "metadata": {
      "needs_background": "light"
     },
     "output_type": "display_data"
    }
   ],
   "source": [
    "plt.figure(figsize=(10,6))\n",
    "plt.boxplot(heart_diseases['chol'])\n",
    "plt.ylabel('Value')\n",
    "plt.title(\"Simple Box Plot\")"
   ]
  },
  {
   "cell_type": "markdown",
   "metadata": {
    "papermill": {
     "duration": 0.04479,
     "end_time": "2023-07-06T01:03:26.441867",
     "exception": false,
     "start_time": "2023-07-06T01:03:26.397077",
     "status": "completed"
    },
    "tags": []
   },
   "source": [
    "<a id=\"m_box_plot\"></a>\n",
    "<h1 style='background:blue; border:0; color:white'><center>Multiple Box Plot</center></h1>"
   ]
  },
  {
   "cell_type": "code",
   "execution_count": 11,
   "metadata": {
    "execution": {
     "iopub.execute_input": "2023-07-06T01:03:26.547067Z",
     "iopub.status.busy": "2023-07-06T01:03:26.540955Z",
     "iopub.status.idle": "2023-07-06T01:03:26.703818Z",
     "shell.execute_reply": "2023-07-06T01:03:26.703111Z"
    },
    "papermill": {
     "duration": 0.216166,
     "end_time": "2023-07-06T01:03:26.703956",
     "exception": false,
     "start_time": "2023-07-06T01:03:26.487790",
     "status": "completed"
    },
    "tags": []
   },
   "outputs": [
    {
     "data": {
      "text/plain": [
       "Text(0.5, 1.0, 'Box Plot')"
      ]
     },
     "execution_count": 11,
     "metadata": {},
     "output_type": "execute_result"
    },
    {
     "data": {
      "image/png": "[encoded data removed]",
      "text/plain": [
       "<Figure size 720x432 with 1 Axes>"
      ]
     },
     "metadata": {
      "needs_background": "light"
     },
     "output_type": "display_data"
    }
   ],
   "source": [
    "plt.figure(figsize=(10,6))\n",
    "plt.boxplot([diabetes['Age'], diabetes['BMI']])\n",
    "plt.ylabel('Value')\n",
    "plt.title(\"Box Plot\")"
   ]
  },
  {
   "cell_type": "markdown",
   "metadata": {
    "papermill": {
     "duration": 0.047738,
     "end_time": "2023-07-06T01:03:26.798869",
     "exception": false,
     "start_time": "2023-07-06T01:03:26.751131",
     "status": "completed"
    },
    "tags": []
   },
   "source": [
    "<a id=\"xticks_box_plot\"></a>\n",
    "<h1 style='background:blue; border:0; color:white'><center>Adding Xticks to Box Plot</center></h1>"
   ]
  },
  {
   "cell_type": "code",
   "execution_count": 12,
   "metadata": {
    "execution": {
     "iopub.execute_input": "2023-07-06T01:03:26.907872Z",
     "iopub.status.busy": "2023-07-06T01:03:26.900675Z",
     "iopub.status.idle": "2023-07-06T01:03:27.104158Z",
     "shell.execute_reply": "2023-07-06T01:03:27.103451Z"
    },
    "papermill": {
     "duration": 0.258584,
     "end_time": "2023-07-06T01:03:27.104293",
     "exception": false,
     "start_time": "2023-07-06T01:03:26.845709",
     "status": "completed"
    },
    "tags": []
   },
   "outputs": [
    {
     "data": {
      "text/plain": [
       "Text(0.5, 1.0, 'Box Plot')"
      ]
     },
     "execution_count": 12,
     "metadata": {},
     "output_type": "execute_result"
    },
    {
     "data": {
      "image/png": "[encoded data removed]",
      "text/plain": [
       "<Figure size 720x432 with 1 Axes>"
      ]
     },
     "metadata": {
      "needs_background": "light"
     },
     "output_type": "display_data"
    }
   ],
   "source": [
    "plt.figure(figsize=(10,6))\n",
    "plt.boxplot([diabetes['Age'], diabetes['BMI'], diabetes['BloodPressure'], diabetes['Glucose']])\n",
    "plt.xticks([1, 2, 3, 4], ['Age', 'BMI', 'BloodPressure', 'Glucose'])\n",
    "plt.ylabel('Value')\n",
    "plt.title(\"Box Plot\")"
   ]
  },
  {
   "cell_type": "markdown",
   "metadata": {
    "papermill": {
     "duration": 0.048086,
     "end_time": "2023-07-06T01:03:27.203397",
     "exception": false,
     "start_time": "2023-07-06T01:03:27.155311",
     "status": "completed"
    },
    "tags": []
   },
   "source": [
    "<a id=\"horizontal_box_plot\"></a>\n",
    "<h1 style='background:blue; border:0; color:white'><center>Horizontal Box Plot</center></h1>"
   ]
  },
  {
   "cell_type": "code",
   "execution_count": 13,
   "metadata": {
    "execution": {
     "iopub.execute_input": "2023-07-06T01:03:27.308490Z",
     "iopub.status.busy": "2023-07-06T01:03:27.307725Z",
     "iopub.status.idle": "2023-07-06T01:03:27.507457Z",
     "shell.execute_reply": "2023-07-06T01:03:27.508024Z"
    },
    "papermill": {
     "duration": 0.256466,
     "end_time": "2023-07-06T01:03:27.508193",
     "exception": false,
     "start_time": "2023-07-06T01:03:27.251727",
     "status": "completed"
    },
    "tags": []
   },
   "outputs": [
    {
     "data": {
      "text/plain": [
       "Text(0.5, 1.0, 'Box Plot')"
      ]
     },
     "execution_count": 13,
     "metadata": {},
     "output_type": "execute_result"
    },
    {
     "data": {
      "image/png": "[encoded data removed]",
      "text/plain": [
       "<Figure size 720x432 with 1 Axes>"
      ]
     },
     "metadata": {
      "needs_background": "light"
     },
     "output_type": "display_data"
    }
   ],
   "source": [
    "plt.figure(figsize=(10,6))\n",
    "plt.boxplot([diabetes['Age'], diabetes['BMI'], diabetes['BloodPressure'], diabetes['Glucose']], vert=False)\n",
    "plt.yticks([1, 2, 3, 4], ['Age', 'BMI', 'BloodPressure', 'Glucose'])\n",
    "plt.xlabel('Value')\n",
    "plt.title(\"Box Plot\")"
   ]
  },
  {
   "cell_type": "markdown",
   "metadata": {
    "papermill": {
     "duration": 0.049765,
     "end_time": "2023-07-06T01:03:27.608865",
     "exception": false,
     "start_time": "2023-07-06T01:03:27.559100",
     "status": "completed"
    },
    "tags": []
   },
   "source": [
    "<a id=\"area_plot\"></a>\n",
    "<h1 style='background:blue; border:0; color:white'><center>Area Plot</center></h1>"
   ]
  },
  {
   "cell_type": "markdown",
   "metadata": {
    "papermill": {
     "duration": 0.049594,
     "end_time": "2023-07-06T01:03:27.708439",
     "exception": false,
     "start_time": "2023-07-06T01:03:27.658845",
     "status": "completed"
    },
    "tags": []
   },
   "source": [
    "An area chart is really similar to a line chart, except that the area between the x axis and the line is filled in with color or shading. It represents the evolution of a numerical variable following another numerical variable. "
   ]
  },
  {
   "cell_type": "markdown",
   "metadata": {
    "papermill": {
     "duration": 0.049375,
     "end_time": "2023-07-06T01:03:27.807667",
     "exception": false,
     "start_time": "2023-07-06T01:03:27.758292",
     "status": "completed"
    },
    "tags": []
   },
   "source": [
    "![](https://datavizcatalogue.com/methods/images/anatomy/area_graph.png)\n",
    "<font size=1><center>Source: [DataVizCatalogue](https://datavizcatalogue.com/methods/images/anatomy/area_graph.png)</center></font>"
   ]
  },
  {
   "cell_type": "code",
   "execution_count": 14,
   "metadata": {
    "execution": {
     "iopub.execute_input": "2023-07-06T01:03:27.943162Z",
     "iopub.status.busy": "2023-07-06T01:03:27.941949Z",
     "iopub.status.idle": "2023-07-06T01:03:27.967751Z",
     "shell.execute_reply": "2023-07-06T01:03:27.968332Z"
    },
    "papermill": {
     "duration": 0.110875,
     "end_time": "2023-07-06T01:03:27.968517",
     "exception": false,
     "start_time": "2023-07-06T01:03:27.857642",
     "status": "completed"
    },
    "tags": []
   },
   "outputs": [],
   "source": [
    "temp = corona_virus.groupby('ObservationDate')['Confirmed'].sum().reset_index()"
   ]
  },
  {
   "cell_type": "code",
   "execution_count": 15,
   "metadata": {
    "execution": {
     "iopub.execute_input": "2023-07-06T01:03:28.073882Z",
     "iopub.status.busy": "2023-07-06T01:03:28.072827Z",
     "iopub.status.idle": "2023-07-06T01:03:28.385069Z",
     "shell.execute_reply": "2023-07-06T01:03:28.384396Z"
    },
    "papermill": {
     "duration": 0.365774,
     "end_time": "2023-07-06T01:03:28.385215",
     "exception": false,
     "start_time": "2023-07-06T01:03:28.019441",
     "status": "completed"
    },
    "tags": []
   },
   "outputs": [
    {
     "data": {
      "image/png": "[encoded data removed]",
      "text/plain": [
       "<Figure size 1440x864 with 1 Axes>"
      ]
     },
     "metadata": {
      "needs_background": "light"
     },
     "output_type": "display_data"
    }
   ],
   "source": [
    "fig = plt.figure(figsize=(20,12))\n",
    "plt.fill_between(temp['ObservationDate'][:30], temp['Confirmed'][:30], color='lightblue')\n",
    "plt.xticks(rotation=90)\n",
    "plt.show()"
   ]
  },
  {
   "cell_type": "markdown",
   "metadata": {
    "papermill": {
     "duration": 0.051582,
     "end_time": "2023-07-06T01:03:28.489039",
     "exception": false,
     "start_time": "2023-07-06T01:03:28.437457",
     "status": "completed"
    },
    "tags": []
   },
   "source": [
    "<a id=\"stacked_area_chart\"></a>\n",
    "<h1 style='background:blue; border:0; color:white'><center>Stacked Area Chart</center></h1>"
   ]
  },
  {
   "cell_type": "code",
   "execution_count": 16,
   "metadata": {
    "execution": {
     "iopub.execute_input": "2023-07-06T01:03:28.653754Z",
     "iopub.status.busy": "2023-07-06T01:03:28.652873Z",
     "iopub.status.idle": "2023-07-06T01:03:28.793396Z",
     "shell.execute_reply": "2023-07-06T01:03:28.792735Z"
    },
    "papermill": {
     "duration": 0.251699,
     "end_time": "2023-07-06T01:03:28.793534",
     "exception": false,
     "start_time": "2023-07-06T01:03:28.541835",
     "status": "completed"
    },
    "tags": []
   },
   "outputs": [],
   "source": [
    "india = corona_virus[corona_virus['Country/Region']=='India'].groupby('ObservationDate')['Confirmed'].sum().reset_index()\n",
    "us = corona_virus[corona_virus['Country/Region']=='US'].groupby('ObservationDate')['Confirmed'].sum().reset_index()\n",
    "brazil = corona_virus[corona_virus['Country/Region']=='Brazil'].groupby('ObservationDate')['Confirmed'].sum().reset_index()"
   ]
  },
  {
   "cell_type": "code",
   "execution_count": 17,
   "metadata": {
    "execution": {
     "iopub.execute_input": "2023-07-06T01:03:28.921332Z",
     "iopub.status.busy": "2023-07-06T01:03:28.920125Z",
     "iopub.status.idle": "2023-07-06T01:03:29.510594Z",
     "shell.execute_reply": "2023-07-06T01:03:29.509888Z"
    },
    "papermill": {
     "duration": 0.664504,
     "end_time": "2023-07-06T01:03:29.510739",
     "exception": false,
     "start_time": "2023-07-06T01:03:28.846235",
     "status": "completed"
    },
    "tags": []
   },
   "outputs": [
    {
     "data": {
      "image/png": "[encoded data removed]",
      "text/plain": [
       "<Figure size 1440x864 with 1 Axes>"
      ]
     },
     "metadata": {
      "needs_background": "light"
     },
     "output_type": "display_data"
    }
   ],
   "source": [
    "fig = plt.figure(figsize=(20,12))\n",
    "plt.stackplot(temp['ObservationDate'][-50:], us['Confirmed'][-50:],india['Confirmed'][-50:], \n",
    "              brazil['Confirmed'][-50:], labels=['US', 'India', 'Brazil'])\n",
    "plt.xticks(rotation=90)\n",
    "plt.legend(loc='upper left')\n",
    "\n",
    "plt.show()"
   ]
  },
  {
   "cell_type": "markdown",
   "metadata": {
    "papermill": {
     "duration": 0.053338,
     "end_time": "2023-07-06T01:03:29.618406",
     "exception": false,
     "start_time": "2023-07-06T01:03:29.565068",
     "status": "completed"
    },
    "tags": []
   },
   "source": [
    "<a id=\"lollipop_plot\"></a>\n",
    "<h1 style='background:blue; border:0; color:white'><center>Lollipop Plot</center></h1>"
   ]
  },
  {
   "cell_type": "markdown",
   "metadata": {
    "papermill": {
     "duration": 0.053638,
     "end_time": "2023-07-06T01:03:29.726290",
     "exception": false,
     "start_time": "2023-07-06T01:03:29.672652",
     "status": "completed"
    },
    "tags": []
   },
   "source": [
    "A lollipop plot is an hybrid between a scatter plot and a barplot. It shows the relationship between a numerical variable and another variable, numerical OR\n",
    "categorical."
   ]
  },
  {
   "cell_type": "code",
   "execution_count": 18,
   "metadata": {
    "execution": {
     "iopub.execute_input": "2023-07-06T01:03:29.842359Z",
     "iopub.status.busy": "2023-07-06T01:03:29.841217Z",
     "iopub.status.idle": "2023-07-06T01:03:29.844079Z",
     "shell.execute_reply": "2023-07-06T01:03:29.844702Z"
    },
    "papermill": {
     "duration": 0.064808,
     "end_time": "2023-07-06T01:03:29.844869",
     "exception": false,
     "start_time": "2023-07-06T01:03:29.780061",
     "status": "completed"
    },
    "tags": []
   },
   "outputs": [],
   "source": [
    "temp = latest_covid_cases.sort_values('Confirmed', ascending= False)[['Country_Region','Confirmed']]"
   ]
  },
  {
   "cell_type": "code",
   "execution_count": 19,
   "metadata": {
    "execution": {
     "iopub.execute_input": "2023-07-06T01:03:29.970302Z",
     "iopub.status.busy": "2023-07-06T01:03:29.967652Z",
     "iopub.status.idle": "2023-07-06T01:03:30.131566Z",
     "shell.execute_reply": "2023-07-06T01:03:30.132138Z"
    },
    "papermill": {
     "duration": 0.233323,
     "end_time": "2023-07-06T01:03:30.132295",
     "exception": false,
     "start_time": "2023-07-06T01:03:29.898972",
     "status": "completed"
    },
    "tags": []
   },
   "outputs": [
    {
     "name": "stderr",
     "output_type": "stream",
     "text": [
      "/opt/conda/lib/python3.7/site-packages/ipykernel_launcher.py:1: UserWarning: In Matplotlib 3.3 individual lines on a stem plot will be added as a LineCollection instead of individual lines. This significantly improves the performance of a stem plot. To remove this warning and switch to the new behaviour, set the \"use_line_collection\" keyword argument to True.\n",
      "  \"\"\"Entry point for launching an IPython kernel.\n"
     ]
    },
    {
     "data": {
      "image/png": "[encoded data removed]",
      "text/plain": [
       "<Figure size 432x288 with 1 Axes>"
      ]
     },
     "metadata": {
      "needs_background": "light"
     },
     "output_type": "display_data"
    }
   ],
   "source": [
    "plt.stem(temp['Country_Region'][:10], temp['Confirmed'][:10])\n",
    "plt.xticks(rotation=90)\n",
    "plt.show()"
   ]
  },
  {
   "cell_type": "markdown",
   "metadata": {
    "papermill": {
     "duration": 0.055585,
     "end_time": "2023-07-06T01:03:30.248895",
     "exception": false,
     "start_time": "2023-07-06T01:03:30.193310",
     "status": "completed"
    },
    "tags": []
   },
   "source": [
    "<a id=\"horizontal_lollipop\"></a>\n",
    "<h1 style='background:blue; border:0; color:white'><center>Horizontal Lollipop</center></h1>"
   ]
  },
  {
   "cell_type": "code",
   "execution_count": 20,
   "metadata": {
    "execution": {
     "iopub.execute_input": "2023-07-06T01:03:30.370485Z",
     "iopub.status.busy": "2023-07-06T01:03:30.369644Z",
     "iopub.status.idle": "2023-07-06T01:03:30.524087Z",
     "shell.execute_reply": "2023-07-06T01:03:30.524755Z"
    },
    "papermill": {
     "duration": 0.219992,
     "end_time": "2023-07-06T01:03:30.524930",
     "exception": false,
     "start_time": "2023-07-06T01:03:30.304938",
     "status": "completed"
    },
    "tags": []
   },
   "outputs": [
    {
     "data": {
      "image/png": "[encoded data removed]",
      "text/plain": [
       "<Figure size 432x288 with 1 Axes>"
      ]
     },
     "metadata": {
      "needs_background": "light"
     },
     "output_type": "display_data"
    }
   ],
   "source": [
    "plt.hlines(y=temp['Country_Region'][:10][::-1], xmin=0, xmax=temp['Confirmed'][:10][::-1], color='skyblue')\n",
    "plt.plot(temp['Confirmed'][:10][::-1], temp['Country_Region'][:10][::-1], 'D')\n",
    "plt.xticks(rotation=90)\n",
    "plt.show()"
   ]
  },
  {
   "cell_type": "markdown",
   "metadata": {
    "papermill": {
     "duration": 0.058223,
     "end_time": "2023-07-06T01:03:30.642480",
     "exception": false,
     "start_time": "2023-07-06T01:03:30.584257",
     "status": "completed"
    },
    "tags": []
   },
   "source": [
    "## Don't forget to upvote if you like it!. \n",
    "If you have any doubt reagrding any part of the notebook, feel free to comment your doubt in the comment box.\n",
    "\n",
    "Thank you!!\n",
    "\n",
    "## Work in Progress... ⏳"
   ]
  }
 ],
 "metadata": {
  "kernelspec": {
   "display_name": "Python 3",
   "language": "python",
   "name": "python3"
  },
  "language_info": {
   "codemirror_mode": {
    "name": "ipython",
    "version": 3
   },
   "file_extension": ".py",
   "mimetype": "text/x-python",
   "name": "python",
   "nbconvert_exporter": "python",
   "pygments_lexer": "ipython3",
   "version": "3.7.6"
  },
  "papermill": {
   "duration": 14.29526,
   "end_time": "2023-07-06T01:03:30.810594",
   "environment_variables": {},
   "exception": null,
   "input_path": "__notebook__.ipynb",
   "output_path": "__notebook__.ipynb",
   "parameters": {},
   "start_time": "2023-07-06T01:03:16.515334",
   "version": "2.1.0"
  }
 },
 "nbformat": 4,
 "nbformat_minor": 4
}
